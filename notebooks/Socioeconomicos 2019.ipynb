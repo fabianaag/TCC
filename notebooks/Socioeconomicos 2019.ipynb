{
 "cells": [
  {
   "cell_type": "code",
   "execution_count": 23,
   "metadata": {},
   "outputs": [
    {
     "name": "stdout",
     "output_type": "stream",
     "text": [
      "['Idade', 'Gênero', 'Etnia', 'Estado Civil', 'Trabalha', 'Filhos', '6. Renda familiar fixa', 'Quantidade de vezes que fez o ENEM', 'Curso Desejado', 'Motivação', 'Domínio do computador', 'Língua Estrangeira', 'Conclusão Ensino Médio', 'Curso de Ingresso\\n']\n",
      "17 ou menos \t 7\n",
      "18 a 20 \t 16\n",
      "21 a 29 \t 72\n",
      "30 a 39 \t 7\n",
      "Acima de 50 anos \t 1\n",
      "Feminino \t 74\n",
      "Masculino \t 29\n"
     ]
    }
   ],
   "source": [
    "import datetime\n",
    "import csv\n",
    "\n",
    "def get_file_rows(path):\n",
    "    with open(path) as file:\n",
    "        lines = file.readlines()\n",
    "        print(lines.pop(0).split('\\t')) # pop header\n",
    "        out = list()\n",
    "        for l in lines:\n",
    "            out.append(l.split('\\t'))\n",
    "        return out\n",
    "\n",
    "def ageInYears( d ):\n",
    "    today = datetime.date.today()\n",
    "    currentYrAnniversary = datetime.date( today.year, d.month, d.day )\n",
    "    return (today.year - d.year) - (1 if today < currentYrAnniversary else 0)\n",
    "\n",
    "\n",
    "socio_keys = ['idade', 'genero', 'etnia', 'estado_civil', 'trabalha', 'filhos', 'renda', 'no_enem', 'curso_escolha',  'motivacao', 'dominio_pc', 'dominio_lingua', 'ano_conclusao', 'curso_ingresso']\n",
    "socio = {name: idx for idx, name in enumerate(socio_keys)}\n",
    "#help(enumerate)\n",
    "\n",
    "def filter_cols(data_source: list, cols: list ):\n",
    "    return [row[socio[col]] for col in cols for row in data_source]\n",
    "\n",
    "tsv_rows = get_file_rows('../dados/socioeconomico_2019.tsv')\n",
    "idades = filter_cols(tsv_rows, ['idade', 'genero'])\n",
    "\n",
    "from collections import Counter \n",
    "\n",
    "idades_counter = Counter(idades)\n",
    "for k in sorted(idades_counter):\n",
    "    print(k, '\\t', idades_counter[k])\n",
    "\n"
   ]
  },
  {
   "cell_type": "code",
   "execution_count": null,
   "metadata": {},
   "outputs": [],
   "source": []
  }
 ],
 "metadata": {
  "kernelspec": {
   "display_name": "Python 3",
   "language": "python",
   "name": "python3"
  },
  "language_info": {
   "codemirror_mode": {
    "name": "ipython",
    "version": 3
   },
   "file_extension": ".py",
   "mimetype": "text/x-python",
   "name": "python",
   "nbconvert_exporter": "python",
   "pygments_lexer": "ipython3",
   "version": "3.6.9"
  }
 },
 "nbformat": 4,
 "nbformat_minor": 4
}
