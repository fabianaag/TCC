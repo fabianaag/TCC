{
 "cells": [
  {
   "cell_type": "code",
   "execution_count": 1,
   "metadata": {},
   "outputs": [],
   "source": [
    "import datetime\n",
    "import csv\n",
    "\n",
    "def get_file_rows(path):\n",
    "    output = []\n",
    "    with open(path) as file:\n",
    "        csv_handle = csv.reader(file)\n",
    "        for row in csv_handle:\n",
    "            output.append(row)\n",
    "    return output\n",
    "\n",
    "\n",
    "def ageInYears( d ):\n",
    "    today = datetime.date.today()\n",
    "    currentYrAnniversary = datetime.date( today.year, d.month, d.day )\n",
    "    return (today.year - d.year) - (1 if today < currentYrAnniversary else 0)\n",
    "\n",
    "\n",
    "cadastro_keys = ['nome', 'estado_civil', 'nascimento', 'lingua', 'curso', 'city', 'bairro', 'escola']\n",
    "cadastro = {k: v for k, v in zip(cadastro_keys, range(len(cadastro_keys)))}"
   ]
  },
  {
   "cell_type": "code",
   "execution_count": 2,
   "metadata": {},
   "outputs": [
    {
     "name": "stdout",
     "output_type": "stream",
     "text": [
      "ages = [25, 22, 23, 28, 28, 20, 24, 54, 18, 18, 19, 20, 18, 29, 23, 24, 24, 21, 56, 24, 19, 22, 21, 58, 21, 20, 19, 40, 21, 19, 28, 19, 34, 19, 24, 44, 28, 19, 20, 30, 22, 28, 36, 22, 26, 20, 23, 34, 43, 32, 37, 44, 20, 24, 24, 18, 18, 28, 19, 18, 20, 20, 32, 31, 18, 21, 33, 27, 27, 23, 24, 24, 24, 23, 22, 21, 21, 23, 54, 55, 20, 33, 26, 40, 23, 20, 20, 19, 24, 24, 22, 18, 19, 21, 25, 22, 20, 35, 21, 19]\n",
      "Categories [18, 19, 20, 21, 22, 23, 24, 25, 26, 27, 28, 29, 30, 31, 32, 33, 34, 35, 36, 37, 40, 43, 44, 54, 55, 56, 58]\n",
      "Series = [8, 11, 12, 9, 7, 7, 12, 2, 2, 2, 6, 1, 1, 1, 2, 2, 2, 1, 1, 1, 2, 1, 2, 2, 1, 1, 1]\n",
      "Categories [18, 19, 20, 21, 22, 23, 24, 25, 26, 27, 28, 29, 30, 31, 32, 33, 34, 35, 36, 37, 38, 39, 40, 41, 42, 43, 44, 45, 46, 47, 48, 49, 50, 51, 52, 53, 54, 55, 56, 57, 58, 59, 60]\n",
      "Series = [8, 11, 12, 9, 7, 7, 12, 2, 2, 2, 6, 1, 1, 1, 2, 2, 2, 1, 1, 1, 0, 0, 2, 0, 0, 1, 2, 0, 0, 0, 0, 0, 0, 0, 0, 0, 2, 1, 1, 0, 1, 0, 0]\n"
     ]
    }
   ],
   "source": [
    "\"\"\"\n",
    "STUDENTS BY AGE \n",
    "\n",
    "This function should manipulate the data\n",
    "to generate the plots with the registration data\n",
    "\"\"\"\n",
    "csv_rows = get_file_rows('dados/2018_cadastro.csv')\n",
    "\n",
    "# 1st objective - age.\n",
    "to_date = lambda dt: datetime.datetime.strptime(dt, '%d/%m/%Y')\n",
    "\n",
    "birthdays = [ row[cadastro['nascimento']] for idx, row in enumerate(csv_rows) if idx != 0]\n",
    "\n",
    "ages = list(map(ageInYears, map(to_date, birthdays)))\n",
    "print(f'ages = {ages}')\n",
    "\n",
    "from collections import Counter\n",
    "counter = Counter(ages)\n",
    "\n",
    "keys = sorted(counter.keys())\n",
    "counts = [counter[k] for k in keys]\n",
    "\n",
    "print(f'Categories {keys}\\nSeries = {counts}')\n",
    "\n",
    "categories = [ el for el in range(18, 61) ]\n",
    "series = [ counter[k] if k in keys else 0 for k in categories ]\n",
    "\n",
    "print(f'Categories {categories}\\nSeries = {series}')\n"
   ]
  },
  {
   "cell_type": "code",
   "execution_count": 3,
   "metadata": {},
   "outputs": [
    {
     "name": "stdout",
     "output_type": "stream",
     "text": [
      "[['Campina Grande', 78], ['Mogeiro', 2], ['Boqueirão', 2], ['Queimadas', 3], ['Areial', 2], ['Lagoa De Roça', 2], ['Taperoa', 1], ['Santa Cecilia', 2], ['Alcantil', 1], ['Soledade', 1], ['Esperança', 4], ['Barauna', 1], ['Gurjão', 1]]\n"
     ]
    }
   ],
   "source": [
    "\"\"\"\n",
    "STUDENTS BY CITY\n",
    "\"\"\"\n",
    "\n",
    "from collections import Counter\n",
    "\n",
    "def normalize(city):\n",
    "    output = []\n",
    "    for palavra in city.split():\n",
    "        output.append(palavra.capitalize())\n",
    "    return ' '.join(output)\n",
    "\n",
    "\n",
    "cidades_dados = map(normalize, [ row[cadastro['city']] for row in csv_rows[1:] ])\n",
    "counter_cities = Counter(cidades_dados)\n",
    "\n",
    "print([list(item) for item in counter_cities.items()])"
   ]
  },
  {
   "cell_type": "code",
   "execution_count": 4,
   "metadata": {},
   "outputs": [
    {
     "name": "stdout",
     "output_type": "stream",
     "text": [
      "[['Campina Grande', 78, '#67d33d'], ['Esperança', 4, '#84db5f'], ['Queimadas', 3, '#b2e897'], ['Mogeiro', 2, '#d3f2c1'], ['Boqueirão', 2, '#d3f2c1'], ['Areial', 2, '#d3f2c1'], ['Lagoa De Roça', 2, '#d3f2c1'], ['Santa Cecilia', 2, '#d3f2c1'], ['Taperoa', 1, '#eaf9e1'], ['Alcantil', 1, '#eaf9e1'], ['Soledade', 1, '#eaf9e1'], ['Barauna', 1, '#eaf9e1'], ['Gurjão', 1, '#eaf9e1']]\n"
     ]
    }
   ],
   "source": [
    "scheme = ['#67d33d','#84db5f', '#b2e897', '#d3f2c1', '#eaf9e1']\n",
    "scheme_categories = {}\n",
    "out = []\n",
    "for c, value in counter_cities.most_common():\n",
    "    for color in scheme[len(scheme_categories):]:\n",
    "        if value not in scheme_categories:\n",
    "            scheme_categories[value] = color\n",
    "    out.append([c, value, scheme_categories[value]])\n",
    "print(out)"
   ]
  },
  {
   "cell_type": "code",
   "execution_count": 5,
   "metadata": {},
   "outputs": [
    {
     "name": "stdout",
     "output_type": "stream",
     "text": [
      "[['Bodocongó', 12],\n",
      " ['Palmeira', 7],\n",
      " ['Monte Santo', 5],\n",
      " ['Liberdade', 5],\n",
      " ['Malvinas', 4],\n",
      " ['Cruzeiro', 4],\n",
      " ['Jardim Paulistano', 3],\n",
      " ['Sao Jose Da Mata', 3],\n",
      " ['Jose Pinheiro', 2],\n",
      " ['Ramadinha I', 2],\n",
      " ['Prata', 2],\n",
      " ['São Jose Da Mata', 2],\n",
      " ['Catole', 2],\n",
      " ['Castelo Branco', 2],\n",
      " ['Dinamerica', 2],\n",
      " ['Santa Cruz', 2],\n",
      " ['Catingueira', 1],\n",
      " ['Chico Mendes', 1],\n",
      " ['Bela Vista', 1],\n",
      " ['São José', 1],\n",
      " ['Novo Horizonte', 1],\n",
      " ['Rosa Cruz', 1],\n",
      " ['Vila Cabral', 1],\n",
      " ['Ressurreição', 1],\n",
      " ['Cinza', 1],\n",
      " ['Ligeiro', 1],\n",
      " ['Santa Rosa', 1],\n",
      " ['Presidente Medici', 1],\n",
      " ['Tambor', 1],\n",
      " ['Jardim Tavares', 1],\n",
      " ['Centro', 1],\n",
      " ['Centenario', 1],\n",
      " ['Monte Castelo', 1],\n",
      " ['Quarenta', 1],\n",
      " ['Mutirão', 1]]\n"
     ]
    }
   ],
   "source": [
    "\"\"\"\n",
    "students by neighborhood \n",
    "\"\"\"\n",
    "from pprint import pprint \n",
    "\n",
    "bairros_dados = map(normalize, [ row[cadastro['bairro']] for row in csv_rows[1:] if row[cadastro['city']].lower() == 'campina grande'])\n",
    "counter_bairros = Counter(bairros_dados)\n",
    "\n",
    "pprint([ list(item) for item in counter_bairros.most_common() ])"
   ]
  },
  {
   "cell_type": "code",
   "execution_count": 11,
   "metadata": {},
   "outputs": [],
   "source": [
    "import json \n",
    "geo_file = open('dados/CG_GEO_JSON.json', 'r')\n",
    "geo_parsed = json.loads(geo_file.read())\n",
    "geo_file.close()"
   ]
  },
  {
   "cell_type": "code",
   "execution_count": null,
   "metadata": {},
   "outputs": [],
   "source": []
  }
 ],
 "metadata": {
  "kernelspec": {
   "display_name": "Python 3",
   "language": "python",
   "name": "python3"
  },
  "language_info": {
   "codemirror_mode": {
    "name": "ipython",
    "version": 3
   },
   "file_extension": ".py",
   "mimetype": "text/x-python",
   "name": "python",
   "nbconvert_exporter": "python",
   "pygments_lexer": "ipython3",
   "version": "3.6.9"
  }
 },
 "nbformat": 4,
 "nbformat_minor": 4
}
