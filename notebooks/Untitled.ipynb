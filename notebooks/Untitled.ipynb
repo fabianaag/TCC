{
 "cells": [
  {
   "cell_type": "code",
   "execution_count": 46,
   "metadata": {},
   "outputs": [],
   "source": [
    "\"\"\"\n",
    "# Objetivo: Limpar dados relativos aos municipios de 2018 e 2019 \n",
    "\n",
    "\n",
    "Os nomes dos munícipios nas fontes de dados, devem estar diferentes dos nomes na fonte do geojson paraíba. \n",
    "Normalizar e \"casar dados\" de maneira satisfatória.\n",
    "\"\"\" \n",
    "cols = ['sex', 'marital_status', 'birthday', 'language', 'option', 'city', 'neighborhood', 'school']\n",
    "get = {k: v for v, k in enumerate(cols)}\n",
    "\n",
    "with open('../dados/cadastro_2018.tsv') as cad_file:\n",
    "    rows = cad_file.readlines()\n",
    "    header = rows.pop(0)\n",
    "    cad_2018 = [row.strip().split('\\t') for row in rows]\n",
    "\n"
   ]
  },
  {
   "cell_type": "code",
   "execution_count": 47,
   "metadata": {},
   "outputs": [],
   "source": [
    "def filter_cols(args):\n",
    "    return list(list(el[get[a]] for a in args) for el in cad_2018)\n",
    "\n",
    "\n",
    "def extract_col(col):\n",
    "    return list(el[get[col]] for el in cad_2018)\n",
    "escolas_2018 = filter_cols(['school', 'city'])"
   ]
  },
  {
   "cell_type": "code",
   "execution_count": 48,
   "metadata": {},
   "outputs": [],
   "source": [
    "escolas_2018\n",
    "escolas = sorted(set(extract_col('school')))\n",
    "#sorted(set(escolas_2018))"
   ]
  },
  {
   "cell_type": "code",
   "execution_count": 56,
   "metadata": {},
   "outputs": [
    {
     "ename": "SyntaxError",
     "evalue": "unexpected EOF while parsing (<ipython-input-56-104cfcf5cbc6>, line 9)",
     "output_type": "error",
     "traceback": [
      "\u001b[0;36m  File \u001b[0;32m\"<ipython-input-56-104cfcf5cbc6>\"\u001b[0;36m, line \u001b[0;32m9\u001b[0m\n\u001b[0;31m    with open('../dados/CG/cad_2018.tsv', 'w', encoding='utf8') as cad_2018_out:\u001b[0m\n\u001b[0m                                                                                 ^\u001b[0m\n\u001b[0;31mSyntaxError\u001b[0m\u001b[0;31m:\u001b[0m unexpected EOF while parsing\n"
     ]
    }
   ],
   "source": [
    "def filter_by(**kwargs):\n",
    "    return list(\n",
    "        el for el in cad_2018\n",
    "        if all(el[get[k]] == v for k, v in kwargs.items())\n",
    "    )\n",
    "\n",
    "filter_by(city='Campina Grande')\n",
    "\n",
    "with open('../dados/CG/cad_2018.tsv', 'w', encoding='utf8') as cad_2018_out: \n",
    "    cad_2018_out.write('\\t'.join(cols) + '\\n')\n",
    "    for l in cad_2018_out"
   ]
  },
  {
   "cell_type": "code",
   "execution_count": 50,
   "metadata": {},
   "outputs": [
    {
     "name": "stdout",
     "output_type": "stream",
     "text": [
      "Estadual José Miguel Leão Campina Grande\n",
      "Estadual José Miguel Leão Campina Grande\n",
      "Estadual José Miguel Leão Campina Grande\n",
      "Estadual José Miguel Leão Campina Grande\n",
      "Estadual José Miguel Leão Campina Grande\n"
     ]
    }
   ],
   "source": [
    "for e, v in escolas_2018:\n",
    "    if 'Miguel' in e: print(e, v\n",
    "                           )"
   ]
  },
  {
   "cell_type": "code",
   "execution_count": null,
   "metadata": {},
   "outputs": [],
   "source": []
  }
 ],
 "metadata": {
  "kernelspec": {
   "display_name": "Python 3",
   "language": "python",
   "name": "python3"
  },
  "language_info": {
   "codemirror_mode": {
    "name": "ipython",
    "version": 3
   },
   "file_extension": ".py",
   "mimetype": "text/x-python",
   "name": "python",
   "nbconvert_exporter": "python",
   "pygments_lexer": "ipython3",
   "version": "3.6.9"
  }
 },
 "nbformat": 4,
 "nbformat_minor": 4
}
