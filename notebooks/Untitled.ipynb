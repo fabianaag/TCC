{
 "cells": [
  {
   "cell_type": "code",
   "execution_count": 1,
   "metadata": {},
   "outputs": [
    {
     "name": "stdout",
     "output_type": "stream",
     "text": [
      "Header ; ['SEXO', 'ESTADO CIVIL', 'NASCIMENTO', 'LINGUA', 'CURSO QUE DESEJA', 'CIDADE', 'BAIRRO', 'ESCOLA DE ORIGEM\\n']\n",
      "Header ; ['Sexo', 'Estado Civil', 'neighborhood', 'Cidade', 'Língua estrangeira', 'Escola\\n']\n"
     ]
    }
   ],
   "source": [
    "idx18 = {'sex': 0, 'marital_status': 1, 'birthday': 2, 'language': 3, 'desired': 4, 'city': 5, 'neighborhood': 6, 'school': 7}\n",
    "idx19 = {'sex': 0, 'marital_status': 1, 'neighborhood': 2, 'city': 3, 'language': 4, 'school': 5}\n",
    "\n",
    "def ler_dados(path):\n",
    "    with open(path, 'r', encoding='utf8') as file_h:\n",
    "        lines = file_h.readlines()\n",
    "        header = lines.pop(0).split('\\t')\n",
    "        print(f\"Header ; {header}\")\n",
    "    \n",
    "    return [line.strip().split('\\t') for line in lines]\n",
    "\n",
    "\n",
    "dados_2018 = ler_dados('../dados/cadastro_2018.tsv')\n",
    "dados_2019 = ler_dados('../dados/cadastro_2019.tsv')\n",
    "\n",
    "# --- \n",
    "\n",
    "schools_2018 = [data[idx18['school']] for data in dados_2018]\n",
    "schools_2019 = [data[idx19['school']] for data in dados_2019]\n"
   ]
  },
  {
   "cell_type": "code",
   "execution_count": 2,
   "metadata": {},
   "outputs": [
    {
     "name": "stdout",
     "output_type": "stream",
     "text": [
      "{'EEEFM José Miguel Leão', 'EEEFM Solon de Lucena', 'EEEFM Félix Araújo', 'EEEFM Monte Carmelo', 'EEEFM Raul Córdula', 'Escola Normal', 'EEEM Otávia Silveira', 'Estadual da Prata', 'EEEFM Nenzinha Cunha Lima', 'EEEFM Severino Cabral'}\n"
     ]
    }
   ],
   "source": [
    "schools18 = [el[idx18['school']] for el in dados_2018]\n",
    "schools19 = [el[idx19['school']] for el in dados_2019]\n",
    "\n",
    "print(set(schools18).intersection(set(schools19)))\n"
   ]
  },
  {
   "cell_type": "code",
   "execution_count": 7,
   "metadata": {},
   "outputs": [],
   "source": [
    "from Levenshtein import distance\n",
    "\n",
    "elements = []\n",
    "schools18 = set(schools18)\n",
    "schools19 = set(schools19)\n",
    "repeated_schools = schools18.intersection(schools19)\n",
    "\n",
    "\n",
    "def extract_cols(data_source, idx, cols):\n",
    "    return [[data[idx[col]] for col in cols] for data in data_source]\n",
    "\n",
    "rschools18 = [row for row in dados_2018 if row[idx18['school']] in repeated_schools]\n",
    "rschools19 = [row for row in dados_2019 if row[idx19['school']] in repeated_schools]\n",
    "\n",
    "with open('../dados/todos_anos_escolas.tsv', 'w', encoding='utf8') as out_file: \n",
    "    d18 = extract_cols(rschools18, idx18, ['city', 'neighborhood', 'school'])\n",
    "    d19 = extract_cols(rschools19, idx19, ['city', 'neighborhood', 'school'])\n",
    "    out_file.write('\\t'.join(['cidade', 'bairro', 'school']) + '\\n')\n",
    "    for line in d18 + d19:\n",
    "        out_file.write('\\t'.join(line) + '\\n')\n",
    "    "
   ]
  },
  {
   "cell_type": "code",
   "execution_count": 4,
   "metadata": {},
   "outputs": [
    {
     "data": {
      "text/plain": [
       "[]"
      ]
     },
     "execution_count": 4,
     "metadata": {},
     "output_type": "execute_result"
    }
   ],
   "source": [
    "sorted(elements, key=lambda el: el[0])"
   ]
  },
  {
   "cell_type": "code",
   "execution_count": 10,
   "metadata": {},
   "outputs": [],
   "source": [
    "repeated = d18 + d19\n",
    "bairros = set(el[1] for el in repeated)"
   ]
  },
  {
   "cell_type": "code",
   "execution_count": null,
   "metadata": {},
   "outputs": [],
   "source": []
  }
 ],
 "metadata": {
  "kernelspec": {
   "display_name": "Python 3",
   "language": "python",
   "name": "python3"
  },
  "language_info": {
   "codemirror_mode": {
    "name": "ipython",
    "version": 3
   },
   "file_extension": ".py",
   "mimetype": "text/x-python",
   "name": "python",
   "nbconvert_exporter": "python",
   "pygments_lexer": "ipython3",
   "version": "3.6.9"
  }
 },
 "nbformat": 4,
 "nbformat_minor": 4
}
