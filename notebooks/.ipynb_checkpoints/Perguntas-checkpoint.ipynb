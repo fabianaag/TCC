{
 "cells": [
  {
   "cell_type": "markdown",
   "metadata": {},
   "source": [
    "### Respostas\n",
    "\n",
    "Aqui faremos a manipulação dos dados para tentar para tentar adereçar algumas perguntas. \n",
    "\n",
    "\n",
    "Decidimos conhecer o perfil dos alunos que se inscrevem no cursinho avaliando os dados por algumas dimensões, que são: \n",
    "  - [Inscritos](#inscritos)\n",
    "  - [Família](#família)\n",
    "  - [Interesses](#interesses)\n",
    "  - [Emprego](#emprego)\n",
    "  - [Escola](#escola)\n",
    "  - [Desempenho](#desempenho)\n",
    "  - [Alcance](#alcance) \n",
    "  \n",
    "--- \n",
    "\n",
    "## Inscritos\n",
    "\n",
    "Algumas das perguntas que iremos responder para os inscritos são: \n",
    "\n",
    "- Caracterização Geral - Perfil Pessoal\n",
    "    - Idade média dos alunos?\n",
    "    - Gênero predominante?\n",
    "    - Qual as etnias existentes?\n",
    "    - Qual o estado civil dos alunos?"
   ]
  },
  {
   "cell_type": "code",
   "execution_count": null,
   "metadata": {},
   "outputs": [],
   "source": [
    "from utils import cad_idx_map, get_file_rows, age_in_years, econo_keys\n",
    "from collections import Counter, defaultdict\n",
    "from datetime import datetime\n",
    "\n",
    "\n",
    "econo_rows = get_file_rows('./../dados/2018_socioeconomico.csv')\n",
    "file_rows = get_file_rows('./../dados/2018_cadastro.csv')\n",
    "\n",
    "# remove header \n",
    "file_rows.pop(0)\n",
    "econo_rows.pop(0)"
   ]
  },
  {
   "cell_type": "code",
   "execution_count": 2,
   "metadata": {},
   "outputs": [],
   "source": [
    "# IDADES médias dos alunos\n",
    "get_dob = lambda pessoa: age_in_years(datetime.strptime(pessoa[cad_idx_map['nascimento']], '%d/%m/%Y'))\n",
    "idades = [get_dob(pessoa) for pessoa in file_rows]\n",
    "print(f'Média das idades {round(sum(idades)/len(idades))}')\n",
    "print(f'Mediana das idades {sorted(idades)[len(idades)//2]}, divide a população de alunos pela metade, ou seja 50% tem mais que e outros 50% tem menos que')\n",
    "\n",
    "counter_idades = Counter(idades)\n",
    "moda_idade, num_alunos = counter_idades.most_common()[0]\n",
    "#print(f'Idade mais comum é {moda_idade} com um número de alunos {num_alunos}, que representa {num_alunos}% do total')\n",
    "#print(counter_idades.most_common())\n"
   ]
  },
  {
   "cell_type": "code",
   "execution_count": 3,
   "metadata": {},
   "outputs": [
    {
     "name": "stdout",
     "output_type": "stream",
     "text": [
      "Counter({'Feminino': 62, 'Masculino': 38})\n"
     ]
    }
   ],
   "source": [
    "# Genero predominante \n",
    "generos = [pessoa[cad_idx_map['sexo']] for pessoa in file_rows]\n",
    "counter_generos = Counter(generos)\n",
    "print(counter_generos)"
   ]
  },
  {
   "cell_type": "code",
   "execution_count": 119,
   "metadata": {},
   "outputs": [
    {
     "name": "stdout",
     "output_type": "stream",
     "text": [
      "Etnias Geral [('Pardo(a)', 52), ('Branco(a)', 19), ('Preto(a)', 18), ('Amarelo(a)', 9), ('Indígena', 5)]\n",
      "\n",
      "Etnias Feminino [('Pardo(a)', 31), ('Branco(a)', 12), ('Preto(a)', 9), ('Amarelo(a)', 5), ('Indígena', 2)]\n",
      "\n",
      "Etnias Masculino [('Pardo(a)', 21), ('Preto(a)', 9), ('Branco(a)', 7), ('Amarelo(a)', 4), ('Indígena', 3)]\n",
      "[\"Amarelo(a)\", [('Pardo(a)', 52), ('Branco(a)', 19), ('Preto(a)', 18), ('Amarelo(a)', 9), ('Indígena', 5)]]\n",
      "[\"Indígena\", [('Pardo(a)', 52), ('Branco(a)', 19), ('Preto(a)', 18), ('Amarelo(a)', 9), ('Indígena', 5)]]\n",
      "[\"Branco(a)\", [('Pardo(a)', 52), ('Branco(a)', 19), ('Preto(a)', 18), ('Amarelo(a)', 9), ('Indígena', 5)]]\n",
      "[\"Preto(a)\", [('Pardo(a)', 52), ('Branco(a)', 19), ('Preto(a)', 18), ('Amarelo(a)', 9), ('Indígena', 5)]]\n",
      "[\"Pardo(a)\", [('Pardo(a)', 52), ('Branco(a)', 19), ('Preto(a)', 18), ('Amarelo(a)', 9), ('Indígena', 5)]]\n",
      "[['Amarelo(a)', [('Pardo(a)', 52), ('Branco(a)', 19), ('Preto(a)', 18), ('Amarelo(a)', 9), ('Indígena', 5)], '#BE3075', 'AMARELO(A)'], ['Indígena', [('Pardo(a)', 52), ('Branco(a)', 19), ('Preto(a)', 18), ('Amarelo(a)', 9), ('Indígena', 5)], '#EB001F', 'INDÍGENA'], ['Branco(a)', [('Pardo(a)', 52), ('Branco(a)', 19), ('Preto(a)', 18), ('Amarelo(a)', 9), ('Indígena', 5)], '#64A12D', 'BRANCO(A)'], ['Preto(a)', [('Pardo(a)', 52), ('Branco(a)', 19), ('Preto(a)', 18), ('Amarelo(a)', 9), ('Indígena', 5)], '#FFED00', 'PRETO(A)'], ['Pardo(a)', [('Pardo(a)', 52), ('Branco(a)', 19), ('Preto(a)', 18), ('Amarelo(a)', 9), ('Indígena', 5)], '#000000', 'PARDO(A)']]\n"
     ]
    }
   ],
   "source": [
    "# Etnias Existentes\n",
    "etnias = [dado[econo_keys['etnia']] for dado in econo_rows]\n",
    "\n",
    "filter_var_by_sex = lambda var, sex: [dado[econo_keys[var]] for dado in econo_rows if dado[econo_keys['sexo']] == sex]\n",
    "etnias_fem = filter_var_by_sex('etnia', 'Feminino')\n",
    "etnias_mas = filter_var_by_sex('etnia', 'Masculino')\n",
    "\n",
    "counter_etnias = Counter(etnias)\n",
    "print('Etnias Geral', counter_etnias )\n",
    "print('\\nEtnias Feminino', Counter(etnias_fem).most_common())\n",
    "print('\\nEtnias Masculino', Counter(etnias_mas).most_common())\n",
    "\n",
    "# Daadls pra gráfico\n",
    "example = [\n",
    "  ['The Left', 69, '#BE3075', 'DIE LINKE'],\n",
    "  ['Social Democratic Party', 153, '#EB001F', 'SPD'],\n",
    "  ['Alliance 90/The Greens', 67, '#64A12D', 'GRÜNE'],\n",
    "  ['Free Democratic Party', 80, '#FFED00', 'FDP'],\n",
    "  ['Negros', 200, '#000000', 'Negros'],\n",
    "]\n",
    "\n",
    "#print(etnias)\n",
    "for i, etnia in enumerate(set(etnias)):\n",
    "    print(f'[\"{etnia}\", {counter_etnias}]')\n",
    "\n",
    "print(out)\n",
    "    \n",
    "    "
   ]
  },
  {
   "cell_type": "code",
   "execution_count": 5,
   "metadata": {},
   "outputs": [
    {
     "name": "stdout",
     "output_type": "stream",
     "text": [
      "Counter({'Solteiro(a)': 89, 'Casado(a)': 10, 'Divorciado(a)': 1})\n"
     ]
    }
   ],
   "source": [
    "# Estado civil\n",
    "from collections import Counter \n",
    "ec = [pessoa[cad_idx_map['estado_civil']] for pessoa in file_rows]\n",
    "counter_ec = Counter(ec)\n",
    "print(counter_ec)"
   ]
  },
  {
   "cell_type": "markdown",
   "metadata": {},
   "source": [
    "#### A etnia tem influência na escolha do curso"
   ]
  },
  {
   "cell_type": "code",
   "execution_count": 6,
   "metadata": {},
   "outputs": [
    {
     "name": "stdout",
     "output_type": "stream",
     "text": [
      "[['Preto(a)', 'Letras', 3],\n",
      " ['Preto(a)', 'Pedagogia', 2],\n",
      " ['Preto(a)', 'Enfermagem', 2],\n",
      " ['Preto(a)', 'Direito', 2],\n",
      " ['Preto(a)', 'Arquitetura e Urbanismo', 1],\n",
      " ['Preto(a)', 'Veterinária', 1],\n",
      " ['Preto(a)', 'Engenharia Elétrica', 1],\n",
      " ['Preto(a)', 'Engenharia Civil', 1],\n",
      " ['Preto(a)', 'Administração', 1],\n",
      " ['Preto(a)', 'Medicina', 1],\n",
      " ['Preto(a)', 'Geografia', 1],\n",
      " ['Preto(a)', 'Física', 1],\n",
      " ['Preto(a)', 'Matemática', 1],\n",
      " ['Pardo(a)', 'Administração', 4],\n",
      " ['Pardo(a)', 'Direito', 4],\n",
      " ['Pardo(a)', 'Odontologia', 3],\n",
      " ['Pardo(a)', 'Letras', 3],\n",
      " ['Pardo(a)', 'Ciência da Computação', 3],\n",
      " ['Pardo(a)', 'Matemática', 2],\n",
      " ['Pardo(a)', 'História', 2],\n",
      " ['Pardo(a)', 'Engenharia Elétrica', 2],\n",
      " ['Pardo(a)', 'Ciências Biológicas', 2],\n",
      " ['Pardo(a)', 'Engenharia Química', 2],\n",
      " ['Pardo(a)', 'Pedagogia', 2],\n",
      " ['Pardo(a)', 'Engenharia Mecânica', 2],\n",
      " ['Pardo(a)', 'Comunicação Social', 2],\n",
      " ['Pardo(a)', 'Nutrição', 2],\n",
      " ['Pardo(a)', 'Psicologia', 2],\n",
      " ['Pardo(a)', 'Educação Física', 2],\n",
      " ['Pardo(a)', 'Medicina', 1],\n",
      " ['Pardo(a)', 'Letras ', 1],\n",
      " ['Pardo(a)', 'Farmácia', 1],\n",
      " ['Pardo(a)', 'Ciências biológicas', 1],\n",
      " ['Pardo(a)', 'Enfermagem', 1],\n",
      " ['Pardo(a)', 'Arquitetura e Urbanismo', 1],\n",
      " ['Pardo(a)', 'Química', 1],\n",
      " ['Pardo(a)', 'Geografia', 1],\n",
      " ['Pardo(a)', 'Estatística', 1],\n",
      " ['Pardo(a)', 'Ciências Contábeis', 1],\n",
      " ['Pardo(a)', 'Engenharia de Produção', 1],\n",
      " ['Pardo(a)', 'Engenharia Agrícola', 1],\n",
      " ['Pardo(a)', 'Fisioterapia', 1],\n",
      " ['Indígena', 'Medicina', 2],\n",
      " ['Indígena', 'Direito', 1],\n",
      " ['Indígena', 'Ciências Biológicas', 1],\n",
      " ['Indígena', 'Biologia', 1],\n",
      " ['Branco(a)', 'Administração', 3],\n",
      " ['Branco(a)', 'Engenharia Civil', 2],\n",
      " ['Branco(a)', 'Ciência da Computação', 1],\n",
      " ['Branco(a)', 'História', 1],\n",
      " ['Branco(a)', 'Design', 1],\n",
      " ['Branco(a)', 'Engenharia de Alimentos', 1],\n",
      " ['Branco(a)', 'Farmácia', 1],\n",
      " ['Branco(a)', 'Nutrição', 1],\n",
      " ['Branco(a)', 'Ciências Sociais', 1],\n",
      " ['Branco(a)', 'Meteorologia', 1],\n",
      " ['Branco(a)', 'Química', 1],\n",
      " ['Branco(a)', 'Ciências Biológicas', 1],\n",
      " ['Branco(a)', 'Enfermagem', 1],\n",
      " ['Branco(a)', 'Medicina', 1],\n",
      " ['Branco(a)', 'Geografia', 1],\n",
      " ['Branco(a)', 'Arquitetura e Urbanismo', 1],\n",
      " ['Amarelo(a)', 'Engenharia Mecânica', 2],\n",
      " ['Amarelo(a)', 'História', 1],\n",
      " ['Amarelo(a)', 'Engenharia Elétrica', 1],\n",
      " ['Amarelo(a)', 'Fisioterapia', 1],\n",
      " ['Amarelo(a)', 'Matemática', 1],\n",
      " ['Amarelo(a)', 'Veterinária ', 1],\n",
      " ['Amarelo(a)', 'Arte e Mídia', 1],\n",
      " ['Amarelo(a)', 'Engenharia de Materiais', 1]]\n"
     ]
    }
   ],
   "source": [
    "# Etnia parece indicar predileção de curso? \n",
    "\n",
    "rows_etnia = defaultdict(lambda: defaultdict(lambda: 0))\n",
    "\n",
    "for row in econo_rows:\n",
    "    etnia = row[econo_keys['etnia']]\n",
    "    curso = row[econo_keys['curso_escolha']]\n",
    "    rows_etnia[etnia][curso] += 1\n",
    "\n",
    "series = []\n",
    "for etn in set(etnias):\n",
    "    for curso in rows_etnia[etn].keys():\n",
    "        series.append([etn, curso, rows_etnia[etn][curso]])\n",
    "        #print(f\"[{etn}, {curso}, {rows_etnia[etn][curso]}]\")\n",
    "from pprint import pprint \n",
    "pprint(sorted(series, key=lambda el:(el[0], el[2]), reverse=True))"
   ]
  },
  {
   "cell_type": "markdown",
   "metadata": {},
   "source": [
    "Dado que dentre os grupos não parece haver uma predileção por um curso em específico, os dados não parecem indicar algum tipo de predileção a nenhum curso.\n",
    "\n",
    "## Família\n",
    "\n",
    "Questões relacionadas à família dos candidatos, tais como renda familiar e filhos.\n",
    "\n",
    "- Influência do gênero/renda: é um fator relevante para a aprovação no vestibular?}\n",
    "- Qual a renda média do alunos do Pré Vestibular Solidário?"
   ]
  },
  {
   "cell_type": "code",
   "execution_count": 86,
   "metadata": {},
   "outputs": [
    {
     "name": "stdout",
     "output_type": "stream",
     "text": [
      "Sexo apenas\n",
      "Dados aprovados\n",
      "Sexo     Qte  Porcentagem\n",
      "Mulheres 18   62.07%\n",
      "Homens   11   37.93%\n",
      "\n",
      "Dados reprovados\n",
      "Sexo     Qte  Porcentagem\n",
      "Mulheres 41   55.41%\n",
      "Homens   33   44.59%\n",
      "\n",
      "Dados gerais\n",
      "Sexo     Qte  Porcentagem\n",
      "Mulheres 59   57.28%\n",
      "Homens   44   42.72%\n",
      "\n",
      "------------------------------\n",
      "Renda Aprovados                                              Qtd  Porcentagem\n",
      "Até 1 salário mínimo (até R$ 998,00)                         17   58.62%\n",
      "De 1 a 2 salários mínimos (de R$998,00 até R$ 1.996,00 )     9    31.03%\n",
      "De 2 a 3 salários mínimos (de R$1.996,00 até R$ 2.994,00 )   3    10.34%\n",
      "\n",
      "Renda Reprovados                                             Qtd  Porcentagem\n",
      "Até 1 salário mínimo (até R$ 998,00)                         32   43.24%\n",
      "De 1 a 2 salários mínimos (de R$998,00 até R$ 1.996,00 )     28   37.84%\n",
      "De 2 a 3 salários mínimos (de R$1.996,00 até R$ 2.994,00 )   14   18.92%\n",
      "\n",
      "Renda Total                                                  Qtd  Porcentagem\n",
      "Até 1 salário mínimo (até R$ 998,00)                         49   47.57%\n",
      "De 1 a 2 salários mínimos (de R$998,00 até R$ 1.996,00 )     37   35.92%\n",
      "De 2 a 3 salários mínimos (de R$1.996,00 até R$ 2.994,00 )   17   16.50%\n",
      "\n",
      "categories = ['Até 1 salário mínimo (até R$ 998,00)', 'De 1 a 2 salários mínimos (de R$998,00 até R$ 1.996,00 )', 'De 2 a 3 salários mínimos (de R$1.996,00 até R$ 2.994,00 )']\n",
      "[17, 9, 3]\n",
      "[-32, -28, -14]\n"
     ]
    }
   ],
   "source": [
    "aprovados = [row for row in econo_rows if row[econo_keys['curso_ingresso']] != 'Não']\n",
    "reprovados = [row for row in econo_rows if row[econo_keys['curso_ingresso']] == 'Não']\n",
    "\n",
    "extrair_sexo = lambda collection: [data[econo_keys['sexo']] for data in collection]\n",
    "sexo_aprovados = extrair_sexo(aprovados)\n",
    "sexo_reprovados = extrair_sexo(reprovados)\n",
    "\n",
    "def describe(counter):\n",
    "    s, q, p = \"Sexo\", \"Qte\", \"Porcentagem\"\n",
    "    print(f\"{s:<8} {q:<4} {p}\")\n",
    "    total = sum(el[1] for el in counter.most_common())\n",
    "    for sexo, count in counter.most_common():\n",
    "        grupo = \"Mulheres\" if sexo == \"Feminino\" else \"Homens\"\n",
    "        percentage = count/total * 100\n",
    "        print(f\"{grupo:<8} {count:<4} {percentage:.02f}%\")\n",
    "    print()\n",
    "print(\"Sexo apenas\")\n",
    "print(\"Dados aprovados\");  describe(Counter(sexo_aprovados))\n",
    "print(\"Dados reprovados\"); describe(Counter(sexo_reprovados))\n",
    "print(\"Dados gerais\");     describe(Counter(sexo_aprovados + sexo_reprovados))\n",
    "print(\"-\" * 30)\n",
    "\n",
    "# Renda\n",
    "get_rendas        = lambda collection: Counter(el[econo_keys['renda']] for el in collection).most_common()\n",
    "rendas_aprovados  = get_rendas(aprovados)\n",
    "rendas_reprovados = get_rendas(reprovados) \n",
    "rendas_totais     = get_rendas(aprovados + reprovados)\n",
    "\n",
    "def describe_renda(items, label):\n",
    "    count, percentage = 'Qtd', 'Porcentagem'\n",
    "    print(f\"{label:<60} {count:<4} {percentage}\")\n",
    "    total = sum(item[1] for item in items)\n",
    "    items = [[k, v] for k, v in items]\n",
    "    #items[1][1] += 2\n",
    "    for name, count in items:\n",
    "        percentage = count/total * 100 \n",
    "        print(f\"{name:<60} {count:<4} {percentage:.02f}%\")\n",
    "\n",
    "items = [\n",
    "    {\"label\": \"Renda Aprovados\", \"data\": rendas_aprovados}, \n",
    "    {\"label\": \"Renda Reprovados\", \"data\": rendas_reprovados}, \n",
    "    {\"label\": \"Renda Total\", \"data\": rendas_totais}\n",
    "]\n",
    "\n",
    "\n",
    "for item in items:\n",
    "    describe_renda(item['data'], item['label'])\n",
    "    print()\n",
    "    \n",
    "\n",
    "print(f\"categories = {[renda for renda, _ in rendas_aprovados]}\")\n",
    "print([value for _, value in rendas_aprovados])\n",
    "\n",
    "print([-value for _, value in rendas_reprovados])"
   ]
  },
  {
   "cell_type": "markdown",
   "metadata": {},
   "source": [
    "## Emprego \n",
    "\n",
    "referente a empregabilidade em paralelo ao estudo (dedicação parcial ou integral).\n",
    "- Quantos alunos trabalham e estudam?\n",
    "- Alunos com dedicação parcial conseguiram aprovação?"
   ]
  },
  {
   "cell_type": "code",
   "execution_count": 108,
   "metadata": {},
   "outputs": [
    {
     "name": "stdout",
     "output_type": "stream",
     "text": [
      "Trabalha? (Aprovados)          Qtd Porcentagem\n",
      "Não                            26   89.66%\n",
      "Sim                            3    10.34%\n",
      "Trabalha? (Reprovados)         Qtd Porcentagem\n",
      "Não                            48   64.86%\n",
      "Sim                            26   35.14%\n",
      "Trabalha? (Geral)              Qtd Porcentagem\n",
      "Não                            74   71.84%\n",
      "Sim                            29   28.16%\n"
     ]
    }
   ],
   "source": [
    "get_trab = lambda collection: Counter([ row[econo_keys['trabalho']] for row in collection ]).most_common()\n",
    "\n",
    "def describe_work(item):\n",
    "    label, counter = item['label'], item['data']\n",
    "    print(f\"{label:<30} Qtd Porcentagem\")\n",
    "    total = sum( count for _, count in counter )\n",
    "    for k, v in counter:\n",
    "        p = v/total * 100\n",
    "        print(f\"{k:<30} {v:<4} {p:.02f}%\")\n",
    "items = [\n",
    "    {\"label\": \"Trabalha? (Aprovados)\", \"data\": get_trab(aprovados)}, \n",
    "    {\"label\": \"Trabalha? (Reprovados)\", \"data\": get_trab(reprovados)},\n",
    "    {\"label\": \"Trabalha? (Geral)\", \"data\": get_trab(aprovados + reprovados)},\n",
    "]\n",
    "for item in items:\n",
    "    describe_work(item)"
   ]
  },
  {
   "cell_type": "code",
   "execution_count": 92,
   "metadata": {},
   "outputs": [
    {
     "data": {
      "text/plain": [
       "Counter({'Não': 74, 'Sim': 29})"
      ]
     },
     "execution_count": 92,
     "metadata": {},
     "output_type": "execute_result"
    }
   ],
   "source": [
    "Counter(trab_data)\n"
   ]
  }
 ],
 "metadata": {
  "kernelspec": {
   "display_name": "Python 3",
   "language": "python",
   "name": "python3"
  },
  "language_info": {
   "codemirror_mode": {
    "name": "ipython",
    "version": 3
   },
   "file_extension": ".py",
   "mimetype": "text/x-python",
   "name": "python",
   "nbconvert_exporter": "python",
   "pygments_lexer": "ipython3",
   "version": "3.6.9"
  }
 },
 "nbformat": 4,
 "nbformat_minor": 4
}
