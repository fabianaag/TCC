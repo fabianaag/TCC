{
 "cells": [
  {
   "cell_type": "markdown",
   "metadata": {},
   "source": [
    "### Respostas\n",
    "\n",
    "Aqui faremos a manipulação dos dados para tentar para tentar adereçar algumas perguntas. \n",
    "\n",
    "\n",
    "Decidimos conhecer o perfil dos alunos que se inscrevem no cursinho avaliando os dados por algumas dimensões, que são: \n",
    "  - [Inscritos](#inscritos)\n",
    "  - [Família](#família)\n",
    "  - [Interesses](#interesses)\n",
    "  - [Emprego](#emprego)\n",
    "  - [Escola](#escola)\n",
    "  - [Desempenho](#desempenho)\n",
    "  - [Alcance](#alcance) \n",
    "  \n",
    "--- \n",
    "\n",
    "#### Inscritos\n",
    "\n",
    "Algumas das perguntas que iremos responder para os inscritos são: \n",
    "\n",
    "- Caracterização Geral - Perfil Pessoal\n",
    "    - Idade média dos alunos?\n",
    "    - Gênero predominante?\n",
    "    - Qual as etnias existentes?\n",
    "    - Qual o estado civil dos alunos?\n",
    "   \n",
    "- A etnia tem influência na escolha do curso?\n",
    "\n",
    "\n",
    "##### Idade média dos alunos?\n"
   ]
  },
  {
   "cell_type": "code",
   "execution_count": 23,
   "metadata": {},
   "outputs": [
    {
     "name": "stdout",
     "output_type": "stream",
     "text": [
      "Média das idades 25.96\n",
      "Mediana das idades 23 , divide a população de alunos pela metade, ou seja 50% tem menos que 23 e a outra metade mais que 23\n",
      "['18 a 20', '21 a 29', '30 a 39', '40 a 49', 'Acima de 50 anos']\n",
      "[20, 19, 18, 19, 20, 18, 19, 20, 20, 19, 19, 19, 19, 20, 20, 20, 18, 18, 19, 18, 20, 20, 18, 20, 20, 20, 19, 18, 19, 20, 19]\n",
      "[25, 22, 24, 28, 28, 24, 29, 23, 24, 24, 21, 24, 22, 21, 21, 21, 28, 24, 28, 22, 28, 22, 26, 23, 24, 24, 28, 21, 27, 27, 23, 24, 24, 24, 23, 22, 21, 21, 23, 26, 23, 24, 24, 22, 21, 25, 22, 21]\n",
      "[34, 30, 36, 34, 32, 37, 32, 31, 33, 33, 35]\n",
      "[40, 44, 43, 44, 40]\n",
      "[54, 56, 58, 54, 55]\n"
     ]
    }
   ],
   "source": [
    "from utils import cad_idx_map, get_file_rows, age_in_years, econo_keys\n",
    "from collections import Counter \n",
    "from datetime import datetime\n",
    "\n",
    "econo_rows = get_file_rows('./../dados/2018_socioeconomico.csv')\n",
    "file_rows = get_file_rows('./../dados/2018_cadastro.csv')\n",
    "\n",
    "# remove header \n",
    "file_rows.pop(0)\n",
    "econo_rows.pop(0)\n",
    "\n",
    "# IDADES\n",
    "\n",
    "get_dob = lambda pessoa: age_in_years(datetime.strptime(pessoa[cad_idx_map['nascimento']], '%d/%m/%Y'))\n",
    "idades = [get_dob(pessoa) for pessoa in file_rows]\n",
    "print(f'Média das idades {sum(idades)/len(idades)}')\n",
    "print(f'Mediana das idades {sorted(idades)[len(idades)//2]} , divide a população de alunos pela metade, ou seja 50% tem menos que 23 e a outra metade mais que 23')\n",
    "categories = sorted(set([ row[econo_keys['idade']] for row in econo_rows]))\n",
    "print(categories)\n",
    "\n",
    "from collections import defaultdict \n",
    "\n",
    "history = defaultdict(list)\n",
    "\n",
    "for age in idades:\n",
    "    if age <= 20:\n",
    "        c_idx = 0\n",
    "    elif age <= 29:\n",
    "        c_idx = 1\n",
    "    elif age <= 39:\n",
    "        c_idx = 2\n",
    "    elif age <= 49:\n",
    "        c_idx = 3\n",
    "    else:\n",
    "        c_idx = 4\n",
    "    history[categories[c_idx]].append(age)\n",
    "    \n",
    "#for c in categories:\n",
    "#    print(history[c])\n",
    "\n",
    "# Pensei que daria pra fazer um boxplot com as idades mas como os grupos tem pessoas de idades diferentes, não deu. "
   ]
  },
  {
   "cell_type": "code",
   "execution_count": 2,
   "metadata": {},
   "outputs": [
    {
     "name": "stdout",
     "output_type": "stream",
     "text": [
      "Counter({'Feminino': 62, 'Masculino': 38})\n"
     ]
    }
   ],
   "source": [
    "# Genero predominante \n",
    "generos = [pessoa[cad_idx_map['sexo']] for pessoa in file_rows]\n",
    "counter_generos = Counter(generos)\n",
    "print(counter_generos)"
   ]
  },
  {
   "cell_type": "code",
   "execution_count": 12,
   "metadata": {},
   "outputs": [
    {
     "name": "stdout",
     "output_type": "stream",
     "text": [
      "Etnias Geral [('Pardo(a)', 52), ('Branco(a)', 19), ('Preto(a)', 18), ('Amarelo(a)', 9), ('Indígena', 5)]\n",
      "\n",
      "Etnias Feminino [('Pardo(a)', 31), ('Branco(a)', 12), ('Preto(a)', 9), ('Amarelo(a)', 5), ('Indígena', 2)]\n",
      "\n",
      "Etnias Masculino [('Pardo(a)', 21), ('Preto(a)', 9), ('Branco(a)', 7), ('Amarelo(a)', 4), ('Indígena', 3)]\n"
     ]
    }
   ],
   "source": [
    "etnias = [dado[econo_keys['etnia']] for dado in econo_rows]\n",
    "\n",
    "filter_var_by_sex = lambda var, sex: [dado[econo_keys[var]] for dado in econo_rows if dado[econo_keys['sexo']] == sex]\n",
    "etnias_fem = filter_var_by_sex('etnia', 'Feminino')\n",
    "etnias_mas = filter_var_by_sex('etnia', 'Masculino')\n",
    "\n",
    "print('Etnias Geral', Counter(etnias).most_common())\n",
    "print('\\nEtnias Feminino', Counter(etnias_fem).most_common())\n",
    "print('\\nEtnias Masculino', Counter(etnias_mas).most_common())"
   ]
  },
  {
   "cell_type": "code",
   "execution_count": 13,
   "metadata": {},
   "outputs": [
    {
     "name": "stdout",
     "output_type": "stream",
     "text": [
      "Counter({'Solteiro(a)': 89, 'Casado(a)': 10, 'Divorciado(a)': 1})\n"
     ]
    }
   ],
   "source": [
    "# Estado civil\n",
    "from collections import Counter \n",
    "ec = [pessoa[cad_idx_map['estado_civil']] for pessoa in file_rows]\n",
    "counter_ec = Counter(ec)\n",
    "print(counter_ec)"
   ]
  },
  {
   "cell_type": "code",
   "execution_count": null,
   "metadata": {},
   "outputs": [],
   "source": []
  }
 ],
 "metadata": {
  "kernelspec": {
   "display_name": "Python 3",
   "language": "python",
   "name": "python3"
  },
  "language_info": {
   "codemirror_mode": {
    "name": "ipython",
    "version": 3
   },
   "file_extension": ".py",
   "mimetype": "text/x-python",
   "name": "python",
   "nbconvert_exporter": "python",
   "pygments_lexer": "ipython3",
   "version": "3.6.9"
  }
 },
 "nbformat": 4,
 "nbformat_minor": 4
}
