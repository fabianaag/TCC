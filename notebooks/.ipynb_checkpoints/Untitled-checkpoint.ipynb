{
 "cells": [
  {
   "cell_type": "code",
   "execution_count": 46,
   "metadata": {},
   "outputs": [],
   "source": [
    "\"\"\"\n",
    "# Objetivo: Limpar dados relativos aos municipios de 2018 e 2019 \n",
    "\n",
    "\n",
    "Os nomes dos munícipios nas fontes de dados, devem estar diferentes dos nomes na fonte do geojson paraíba. \n",
    "Normalizar e \"casar dados\" de maneira satisfatória.\n",
    "\"\"\" \n",
    "cols = ['sex', 'marital_status', 'birthday', 'language', 'option', 'city', 'neighborhood', 'school']\n",
    "get = {k: v for v, k in enumerate(cols)}\n",
    "\n",
    "with open('../dados/cadastro_2018.tsv') as cad_file:\n",
    "    rows = cad_file.readlines()\n",
    "    header = rows.pop(0)\n",
    "    cad_2018 = [row.strip().split('\\t') for row in rows]\n",
    "\n"
   ]
  },
  {
   "cell_type": "code",
   "execution_count": 47,
   "metadata": {},
   "outputs": [],
   "source": [
    "def filter_cols(args):\n",
    "    return list(list(el[get[a]] for a in args) for el in cad_2018)\n",
    "\n",
    "\n",
    "def extract_col(col):\n",
    "    return list(el[get[col]] for el in cad_2018)\n",
    "escolas_2018 = filter_cols(['school', 'city'])"
   ]
  },
  {
   "cell_type": "code",
   "execution_count": 48,
   "metadata": {},
   "outputs": [],
   "source": [
    "escolas_2018\n",
    "escolas = sorted(set(extract_col('school')))\n",
    "#sorted(set(escolas_2018))"
   ]
  },
  {
   "cell_type": "code",
   "execution_count": 49,
   "metadata": {},
   "outputs": [
    {
     "data": {
      "text/plain": [
       "['EEEM Prefeito Severino Pereira Gomes',\n",
       " 'Educacional Santa Cecília',\n",
       " 'Escola Estadual João de Abreu',\n",
       " 'Escola Normal',\n",
       " 'Estadual - E.C.I. Monsenhor José da Silva Coutinho',\n",
       " 'Estadual Anésio Leão',\n",
       " 'Estadual Dr. Trajano Nóbrega',\n",
       " 'Estadual Felix Araújo',\n",
       " 'Estadual Francisco Apolinário',\n",
       " 'Estadual Francisco Ernesto do Rêgo',\n",
       " 'Estadual Ismenia Machado',\n",
       " 'Estadual José Miguel Leão',\n",
       " 'Estadual Monsenhor José Borges',\n",
       " 'Estadual Nenzinha Cunha Lima',\n",
       " 'Estadual Otavia Silveira',\n",
       " 'Estadual Premen',\n",
       " 'Estadual Raul Córdula',\n",
       " 'Estadual Severino Cabral',\n",
       " 'Estadual Solon de Lucena',\n",
       " 'Estadual da Palmeira',\n",
       " 'Estadual da Prata',\n",
       " 'Estadual de Bodocongó',\n",
       " 'Estadual de Ensino Fundamental e Médio de Alcantil',\n",
       " 'José Braz do Rêgo',\n",
       " 'Monte Carmelo',\n",
       " 'Virgínio da Gama e Melo']"
      ]
     },
     "execution_count": 49,
     "metadata": {},
     "output_type": "execute_result"
    }
   ],
   "source": []
  },
  {
   "cell_type": "code",
   "execution_count": 50,
   "metadata": {},
   "outputs": [
    {
     "name": "stdout",
     "output_type": "stream",
     "text": [
      "Estadual José Miguel Leão Campina Grande\n",
      "Estadual José Miguel Leão Campina Grande\n",
      "Estadual José Miguel Leão Campina Grande\n",
      "Estadual José Miguel Leão Campina Grande\n",
      "Estadual José Miguel Leão Campina Grande\n"
     ]
    }
   ],
   "source": [
    "for e, v in escolas_2018:\n",
    "    if 'Miguel' in e: print(e, v)"
   ]
  },
  {
   "cell_type": "code",
   "execution_count": null,
   "metadata": {},
   "outputs": [],
   "source": []
  }
 ],
 "metadata": {
  "kernelspec": {
   "display_name": "Python 3",
   "language": "python",
   "name": "python3"
  },
  "language_info": {
   "codemirror_mode": {
    "name": "ipython",
    "version": 3
   },
   "file_extension": ".py",
   "mimetype": "text/x-python",
   "name": "python",
   "nbconvert_exporter": "python",
   "pygments_lexer": "ipython3",
   "version": "3.6.9"
  }
 },
 "nbformat": 4,
 "nbformat_minor": 4
}
