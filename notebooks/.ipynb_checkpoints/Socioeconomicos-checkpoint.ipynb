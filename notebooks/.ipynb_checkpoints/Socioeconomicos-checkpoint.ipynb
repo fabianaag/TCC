{
 "cells": [
  {
   "cell_type": "code",
   "execution_count": 3,
   "metadata": {},
   "outputs": [
    {
     "data": {
      "text/plain": [
       "{'idade': 0,\n",
       " 'sexo': 1,\n",
       " 'raca': 2,\n",
       " 'estado_civil': 3,\n",
       " 'trabalho': 4,\n",
       " 'filhos': 5,\n",
       " 'renda': 6,\n",
       " 'no_enem': 7,\n",
       " 'curso_escolha': 8,\n",
       " 'dominio_pc': 9,\n",
       " 'motivacao': 10,\n",
       " 'dominio_lingua': 11,\n",
       " 'ano_conclusao': 12,\n",
       " 'curso_ingresso': 13}"
      ]
     },
     "execution_count": 3,
     "metadata": {},
     "output_type": "execute_result"
    }
   ],
   "source": [
    "import datetime\n",
    "import csv\n",
    "\n",
    "def get_file_rows(path):\n",
    "    with open(path) as file:\n",
    "        csv_handle = csv.reader(file)\n",
    "        for row in csv_handle:\n",
    "            yield row\n",
    "\n",
    "def ageInYears( d ):\n",
    "    today = datetime.date.today()\n",
    "    currentYrAnniversary = datetime.date( today.year, d.month, d.day )\n",
    "    return (today.year - d.year) - (1 if today < currentYrAnniversary else 0)\n",
    "\n",
    "\n",
    "socio_keys = ['idade', 'sexo', 'raca', 'estado_civil', 'trabalho', 'filhos', 'renda', 'no_enem', 'curso_escolha', 'dominio_pc', 'motivacao', 'dominio_lingua', 'ano_conclusao', 'curso_ingresso']\n",
    "socio = {k: v for k, v in zip(socio_keys, range(len(socio_keys)))}"
   ]
  },
  {
   "cell_type": "code",
   "execution_count": 10,
   "metadata": {},
   "outputs": [
    {
     "name": "stdout",
     "output_type": "stream",
     "text": [
      "['18 a 20', '21 a 29', '30 a 39', '40 a 49', 'Acima de 50 anos']\n",
      "[-5, -30, -7, -1, -1]\n",
      "[10, 42, 4, 3, 0]\n"
     ]
    }
   ],
   "source": [
    "\"\"\"\n",
    "This function should manipulate the data\n",
    "to generate the plots with the registration data\n",
    "\"\"\"\n",
    "csv_rows = list(get_file_rows('dados/2018_socioeconomico.csv'))\n",
    "\n",
    "categories = sorted(set([ row[socio['idade']] for row in csv_rows[1:] ]))\n",
    "print(categories)\n",
    "\n",
    "from collections import defaultdict\n",
    "\n",
    "contador_h = defaultdict(lambda: 0)\n",
    "contador_m = defaultdict(lambda: 0)\n",
    "\n",
    "for row in csv_rows[1:]:\n",
    "    eh_home = row[socio['sexo']] == 'Masculino'\n",
    "    idade = row[socio['idade']]\n",
    "    \n",
    "    if eh_home: \n",
    "        contador_h[idade] += 1\n",
    "    else:\n",
    "        contador_m[idade] += 1\n",
    "    \n",
    "\n",
    "\n",
    "print([ -contador_h[k] for k in categories ])\n",
    "print([ contador_m[k] for k in categories ])\n",
    "\n",
    "\n",
    "from collections import Counter \n",
    "\n",
    "counter = Counter([\n",
    "    row[socio['sexo']] for row in csv_rows[1:]\n",
    "])\n",
    "\n"
   ]
  },
  {
   "cell_type": "code",
   "execution_count": null,
   "metadata": {},
   "outputs": [],
   "source": []
  }
 ],
 "metadata": {
  "kernelspec": {
   "display_name": "Python 3",
   "language": "python",
   "name": "python3"
  },
  "language_info": {
   "codemirror_mode": {
    "name": "ipython",
    "version": 3
   },
   "file_extension": ".py",
   "mimetype": "text/x-python",
   "name": "python",
   "nbconvert_exporter": "python",
   "pygments_lexer": "ipython3",
   "version": "3.6.9"
  }
 },
 "nbformat": 4,
 "nbformat_minor": 4
}
