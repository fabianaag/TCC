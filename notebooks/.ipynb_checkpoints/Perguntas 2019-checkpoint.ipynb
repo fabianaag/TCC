{
 "cells": [
  {
   "cell_type": "code",
   "execution_count": 157,
   "metadata": {},
   "outputs": [],
   "source": [
    "with open('../dados/cadastro_2019.tsv', 'r') as tsv: \n",
    "    lines = tsv.readlines()\n",
    "\n",
    "break_line = lambda line: line.strip().split('\\t')\n",
    "lines = list(map(break_line, lines))\n",
    "\n",
    "\n",
    "header = lines.pop(0)\n",
    "cols = ['gender', 'marital_st', 'neighborhood', 'city', 'language_opt', 'school']\n",
    "header_map = {col: idx for idx, col in enumerate(cols)}\n",
    "\n",
    "# creating output file \n",
    "cols = cols + ['state', 'country']\n",
    "with open('../dados/cadastro_2019_with_state.tsv')\n"
   ]
  },
  {
   "cell_type": "code",
   "execution_count": 154,
   "metadata": {},
   "outputs": [],
   "source": [
    "def filter_cols(data_source: list, cols: list ):\n",
    "    return [row[header_map[col]] for col in cols for row in data_source]"
   ]
  },
  {
   "cell_type": "code",
   "execution_count": 155,
   "metadata": {},
   "outputs": [],
   "source": [
    "escolas = set(filter_cols(lines, cols=['escola']))"
   ]
  },
  {
   "cell_type": "code",
   "execution_count": 156,
   "metadata": {},
   "outputs": [
    {
     "name": "stdout",
     "output_type": "stream",
     "text": [
      "set()\n",
      "45 45 {'ECIEEM Dr Hortensio de Sousa Ribeiro', 'EEEFM Clementino Procópio', 'EEEFM Almirante Antônio Heráclito do Rêgo', 'EEEFM Professor Itan Pereira', 'ECIEEFM Marechal Almeida Barreto', 'EEEFM Lúcia wanderlay de freitas', 'ENCCEJA', 'Escola Santo Onofre', 'EMEF luis Ribeiro Coutinho', 'EEEFM Monte Carmelo', 'Espaço Educacional Carmela Veloso', 'EEEF John Kennedy', 'EEEFM Antônio Galdino Filho', 'EEEFM Escritor Virginius da Gama e Melo', 'Colégio Alfredo Dantas', 'EEEFM Luiz Gonzaga Buriti', 'Escola Normal', 'EEEFM José Miguel Leão', 'Estadual da Prata', 'EEEFM Conselheiro José Braz do Rêgo', 'EEEFM Isabel Rofrigues de Melo', 'EEEFM Monsenhor José Borges de Carvalho', 'ECIEEFM Monsenhor José da Silva Coutinho', 'EEEFM Ademar Veloso da Silveira', 'EEEFM Assis Chateaubriand', 'EEEFM Professor Anésio Leão', 'EEEFM Major Veneziano Vital do Rêgo', 'EEEFM Ezequiel Fernandes', 'EEEFM Francisco Apolinário da Silva', 'EEEFM Teodósio de Oliveira Lêdo', 'Escola de Referência em Ensino Médio Justa Barbosa de Sales', 'EEEFM Professora Maria Cécilia de Castro', 'Colégio Santa Teresinha', 'EEEFM Severino Cabral', 'EEEM João da Silva Monteiro', 'EEEFM Raul Córdula', 'EEEFM CAIC José Joffily', 'EEEFM Irineu Joffily', 'EEEFM Solon de Lucena', 'EEEFM Senador Argemiro de Figueiredo', 'IFPB', 'EEEFM Nenzinha Cunha Lima', 'EEEFM Félix Araújo', 'EEEF Francisca Martiniano da Rocha', 'EEEM Otávia Silveira'}\n",
      "EEEFM CAIC José Joffily EEEFM Irineu Joffily\n"
     ]
    }
   ],
   "source": [
    "import re\n",
    "before_len = len(escolas)\n",
    "\n",
    "escolas_after = set(re.sub('\\W', ' ', escola) for escola in escolas)\n",
    "\n",
    "\n",
    "def join_initials(word):\n",
    "    output = \"\"\n",
    "    \n",
    "    word = word.strip()\n",
    "    output = ' '.join(word.split())\n",
    "    output = output.strip()\n",
    "    if word.strip() != output.strip():\n",
    "        print(word, output, ''.join(['1' if c1 == c2 else '0' for c1, c2 in zip(word, output)]))\n",
    "    return output\n",
    "\n",
    "#escolas_after = set(map(join_initials, escolas_after))\n",
    "print(escolas-escolas_after)\n",
    "\n",
    "after_len = len(escolas_after)    \n",
    "\n",
    "print(before_len, after_len, escolas_after)\n",
    "escolas_after = list(set(escolas_after))\n",
    "\n",
    "from itertools import combinations\n",
    "for w1, w2 in combinations(escolas_after, 2):\n",
    "    from jaccard_index.jaccard import jaccard_index\n",
    "    distance = jaccard_index(w1, w2) \n",
    "    if 1 > distance > .45:\n",
    "        print(w1, w2)\n",
    "            \n",
    "     "
   ]
  },
  {
   "cell_type": "code",
   "execution_count": null,
   "metadata": {},
   "outputs": [],
   "source": []
  },
  {
   "cell_type": "code",
   "execution_count": null,
   "metadata": {},
   "outputs": [],
   "source": []
  }
 ],
 "metadata": {
  "kernelspec": {
   "display_name": "Python 3",
   "language": "python",
   "name": "python3"
  },
  "language_info": {
   "codemirror_mode": {
    "name": "ipython",
    "version": 3
   },
   "file_extension": ".py",
   "mimetype": "text/x-python",
   "name": "python",
   "nbconvert_exporter": "python",
   "pygments_lexer": "ipython3",
   "version": "3.6.9"
  }
 },
 "nbformat": 4,
 "nbformat_minor": 4
}
