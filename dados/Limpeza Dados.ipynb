{
 "cells": [
  {
   "cell_type": "markdown",
   "metadata": {},
   "source": [
    "## LIMPEZA DE DADOS (DATA CLEANING)\n",
    "#### OBJETIVOS \n",
    "\n",
    "- [ ] Funções utilitárias \n",
    "- [ ] Procurar e remover erros com nomes de bairros \n",
    "- [ ] Procurar e remover erros com nomes de escolas"
   ]
  },
  {
   "cell_type": "code",
   "execution_count": 18,
   "metadata": {},
   "outputs": [],
   "source": [
    "# Funções utilitárias \n",
    "\n",
    "def extrair_colunas(rows, cols, col_to_idx):\n",
    "    return [\n",
    "        [rows[idx][col_to_idx[col]] for col in cols]\n",
    "        for idx in range(len(rows))\n",
    "    ]"
   ]
  },
  {
   "cell_type": "code",
   "execution_count": 41,
   "metadata": {},
   "outputs": [],
   "source": [
    "# Bairros de 2018 \n",
    "import csv\n",
    "import itertools, collections\n",
    "\n",
    "header = None\n",
    "cols_2018 = ['sexo', 'estado_civil', 'nascimento', 'lingua', 'curso', 'cidade', 'bairro', 'escola']\n",
    "idx_map = {k: v for v, k in enumerate(cols_2018)}\n",
    "rows = list()\n",
    "with open('./2018/cadastro_2018.tsv') as data_file: \n",
    "    rows = csv.reader(data_file, delimiter='\\t')\n",
    "    rows = [row for idx, row in enumerate(rows) if idx > 0]\n",
    "    \n",
    "# pegando dados CG apenas \n",
    "dados_2018_cg = [ row for row in rows if row[idx_map['cidade']].lower() == 'campina grande']\n",
    "[ print()]\n",
    "with open('./2018/bairros_2018.tsv', 'w') as out_file:\n",
    "    out_file.write('\\t'.join(['bairro', 'cidade', 'estado', 'pais']) + '\\n')\n",
    "    for row in dados_2018_cg:\n",
    "        bairro = row[idx_map['bairro']]\n",
    "        out_file.write('\\t'.join([bairro, 'Campina Grande', 'Paraiba', 'Brasil']) + '\\n')\n",
    "\n",
    "escolas_2018 = extrair_colunas(rows, ['escola'], idx_map)\n",
    "escolas_2018 = {row[0] for row in escolas_2018}\n",
    "\n",
    "pares_escolas_2018 = set(itertools.combinations(escolas_2018, 2))\n"
   ]
  },
  {
   "cell_type": "code",
   "execution_count": 46,
   "metadata": {},
   "outputs": [
    {
     "name": "stdout",
     "output_type": "stream",
     "text": [
      "['Sexo', 'Estado Civil', 'neighborhood', 'Cidade', 'Língua estrangeira', 'Escola']\n",
      "\n",
      "\n",
      "\n",
      "[\"'Bela Vista'\", \"'Ramadinha'\", \"'Quarenta'\", \"'Cruzeiro'\", \"'Malvinas'\", \"'Universitário'\", \"'Malvinas'\", \"'Centenário'\", \"'Três Irmãs'\", \"'Novo Bodocongo'\", \"'Pedregal'\", \"'Pedregal'\", \"'Bodocongó'\", \"'São José'\", \"'Três Irmãs'\", \"'Catolé'\", \"'Malvinas'\", \"'Bodocongó'\", \"'Jeremias'\", \"'Ramadinha'\", \"'São José da Mata'\", \"'Bodocongó'\", \"'Malvinas'\", \"'Galante'\", \"'Centro - Eperança'\", \"'Centenário'\", \"'Dinamérica'\", \"'Santa Cruz'\", \"'Pedregal'\", \"'Presidente Médici'\", \"'Bodocongó'\", \"'Palmeira'\", \"'Araxá'\", \"'Malvinas'\", \"'Bodocongó'\", \"'Bodocongó'\", \"'Bodocongó'\", \"'Bodocongó'\", \"'Malvinas'\", \"'Três Irmãs'\", \"'Conceição'\", \"'Prata'\", \"'Malvinas'\", \"'Catolé'\", \"'Ramadinha '\", \"'São José da Mata'\", \"'Jardim Paulistano'\", \"'Bodocongó'\", \"'Monte Santo'\", \"'Acácio Figueiredo'\", \"'Bodocongó'\", \"'Cruzeiro'\", \"'Cruzeiro'\", \"'João Paulo II'\", \"'José Pinheiro'\", \"'Malvinas'\", \"'Bodocongó'\", \"'José Pinheiro'\", \"'Francisco Cabral - JS'\", \"'Malvinas'\", \"'Dinamérica'\", \"'Cruzeiro'\", \"'São José da Mata'\", \"'Catolé'\", \"'Bela Vista'\", \"'Bela Vista'\", \"'São José da Mata'\", \"'Liberdade'\", \"'Catolé'\", \"'Severino Cabral'\", \"'Santa Cruz'\", \"'Malvinas'\", \"'Lagoa de Dentro'\"]\n",
      "\n",
      "\n",
      "\n",
      "\n",
      "Bela Vista\n",
      "Ramadinha\n",
      "Quarenta\n",
      "Cruzeiro\n",
      "Malvinas\n",
      "Universitário\n",
      "Malvinas\n",
      "Centenário\n",
      "Três Irmãs\n",
      "Novo Bodocongo\n",
      "Pedregal\n",
      "Pedregal\n",
      "Bodocongó\n",
      "São José\n",
      "Três Irmãs\n",
      "Catolé\n",
      "Malvinas\n",
      "Bodocongó\n",
      "Jeremias\n",
      "Ramadinha\n",
      "São José da Mata\n",
      "Bodocongó\n",
      "Malvinas\n",
      "Galante\n",
      "Centro - Eperança\n",
      "Centenário\n",
      "Dinamérica\n",
      "Santa Cruz\n",
      "Pedregal\n",
      "Presidente Médici\n",
      "Bodocongó\n",
      "Palmeira\n",
      "Araxá\n",
      "Malvinas\n",
      "Bodocongó\n",
      "Bodocongó\n",
      "Bodocongó\n",
      "Bodocongó\n",
      "Malvinas\n",
      "Três Irmãs\n",
      "Conceição\n",
      "Prata\n",
      "Malvinas\n",
      "Catolé\n",
      "Ramadinha \n",
      "São José da Mata\n",
      "Jardim Paulistano\n",
      "Bodocongó\n",
      "Monte Santo\n",
      "Acácio Figueiredo\n",
      "Bodocongó\n",
      "Cruzeiro\n",
      "Cruzeiro\n",
      "João Paulo II\n",
      "José Pinheiro\n",
      "Malvinas\n",
      "Bodocongó\n",
      "José Pinheiro\n",
      "Francisco Cabral - JS\n",
      "Malvinas\n",
      "Dinamérica\n",
      "Cruzeiro\n",
      "São José da Mata\n",
      "Catolé\n",
      "Bela Vista\n",
      "Bela Vista\n",
      "São José da Mata\n",
      "Liberdade\n",
      "Catolé\n",
      "Severino Cabral\n",
      "Santa Cruz\n",
      "Malvinas\n",
      "Lagoa de Dentro\n",
      "Counter({'IFPB': 10, 'Estadual da Prata': 8, 'EEEFM Severino Cabral': 6, 'EEEFM Ademar Veloso da Silveira': 5, 'EEEFM Ezequiel Fernandes': 4, 'EEEFM Antônio Galdino Filho': 4, 'EEEFM Raul Córdula': 4, 'ECIEEFM Monsenhor José da Silva Coutinho': 4, 'Escola Normal': 4, 'EEEFM Monte Carmelo': 3, 'EEEFM Monsenhor José Borges de Carvalho': 3, 'ECIEEM Dr Hortensio de Sousa Ribeiro': 3, 'EEEFM Francisco Apolinário da Silva': 2, 'EEEFM Professor Anésio Leão': 2, 'EEEFM CAIC José Joffily': 2, 'EEEFM Escritor Virginius da Gama e Melo': 2, 'EEEFM Nenzinha Cunha Lima': 2, 'EEEFM Irineu Joffily': 2, 'Escola Santo Onofre': 2, 'EEEM João da Silva Monteiro': 2, 'EEEFM Senador Argemiro de Figueiredo': 2, 'Espaço Educacional Carmela Veloso': 2, 'EEEFM Professor Itan Pereira': 1, 'Colégio Santa Teresinha': 1, 'EEEFM Félix Araújo': 1, 'EEEFM Teodósio de Oliveira Lêdo': 1, 'EEEFM Luiz Gonzaga Buriti': 1, 'EEEFM Lúcia wanderlay de freitas': 1, 'EMEF luis Ribeiro Coutinho': 1, 'EEEF Francisca Martiniano da Rocha': 1, 'EEEFM Major Veneziano Vital do Rêgo': 1, 'EEEFM Clementino Procópio': 1, 'EEEFM Assis Chateaubriand': 1, 'EEEFM Conselheiro José Braz do Rêgo': 1, 'EEEFM Isabel Rofrigues de Melo': 1, 'EEEFM Solon de Lucena': 1, 'EEEFM Professora Maria Cécilia de Castro': 1, 'EEEM Otávia Silveira': 1, 'EEEFM Almirante Antônio Heráclito do Rêgo': 1, 'ECIEEFM Marechal Almeida Barreto': 1, 'ENCCEJA': 1, 'EEEF John Kennedy': 1, 'Colégio Alfredo Dantas': 1, 'Escola de Referência em Ensino Médio Justa Barbosa de Sales': 1, 'EEEFM José Miguel Leão': 1})\n"
     ]
    }
   ],
   "source": [
    "cols_2019 = ['sexo', 'estado_civil', 'bairro', 'cidade', 'lingua', 'escola']\n",
    "idx_map_2019 = {k: v for v, k in enumerate(cols_2019)}\n",
    "rows = list()\n",
    "with open('./2019/cadastro_2019.tsv') as data_file:\n",
    "    rows = csv.reader(data_file, delimiter='\\t') \n",
    "    rows = [row for row in rows]\n",
    "    print(rows.pop(0))\n",
    "    \n",
    "dados_2019_cg = [row for row in rows if row[idx_map_2019['cidade']].lower() == 'campina grande']\n",
    "print('\\n\\n')\n",
    "print([repr(row[idx_map_2019['bairro']]) for row in dados_2019_cg])\n",
    "print('\\n\\n\\n')\n",
    "with open('./2019/bairros_2019.tsv', 'w') as out_file:\n",
    "    out_file.write('\\t'.join(['bairro', 'cidade', 'estado', 'pais']) + '\\n')\n",
    "    for row in dados_2019_cg:\n",
    "        bairro = row[idx_map_2019['bairro']]\n",
    "        print(bairro)\n",
    "        out_file.write('\\t'.join([bairro, 'Campina Grande', 'Paraiba', 'Brasil']) + '\\n')\n",
    "    \n",
    "escolas_2019 = extrair_colunas(rows, ['escola'], idx_map_2019)\n",
    "print(collections.Counter([row[0] for row in escolas_2019]))"
   ]
  },
  {
   "cell_type": "code",
   "execution_count": 28,
   "metadata": {},
   "outputs": [
    {
     "data": {
      "text/plain": [
       "dict_keys(['Estadual da Palmeira', 'Estadual da Prata', 'Estadual de Bodocongó', 'Virgínio da Gama e Melo', 'EEEFM Nenzinha Cunha Lima', 'EEEM Otávia Silveira', 'EEEFM Severino Cabral', 'EEEFM Monte Carmelo', 'EEEFM Raul Córdula', 'EEEFM José Miguel Leão', 'EEEFM Félix Araújo', 'José Braz do Rêgo', 'Escola Normal', 'Estadual Francisco Ernesto do Rêgo', 'Estadual Francisco Apolinário', 'Estadual Monsenhor José Borges', 'Estadual Ismenia Machado', 'Educacional Santa Cecília', 'Estadual de Ensino Fundamental e Médio de Alcantil', 'Estadual Dr. Trajano Nóbrega', 'Estadual - E.C.I. Monsenhor José da Silva Coutinho', 'EEEM Prefeito Severino Pereira Gomes', 'Estadual Anésio Leão', 'Escola Estadual João de Abreu', 'Estadual Premen', 'EEEFM Solon de Lucena'])"
      ]
     },
     "execution_count": 28,
     "metadata": {},
     "output_type": "execute_result"
    }
   ],
   "source": [
    "counter_escolas.keys()"
   ]
  },
  {
   "cell_type": "code",
   "execution_count": null,
   "metadata": {},
   "outputs": [],
   "source": []
  }
 ],
 "metadata": {
  "kernelspec": {
   "display_name": "Python 3",
   "language": "python",
   "name": "python3"
  },
  "language_info": {
   "codemirror_mode": {
    "name": "ipython",
    "version": 3
   },
   "file_extension": ".py",
   "mimetype": "text/x-python",
   "name": "python",
   "nbconvert_exporter": "python",
   "pygments_lexer": "ipython3",
   "version": "3.6.9"
  }
 },
 "nbformat": 4,
 "nbformat_minor": 4
}
