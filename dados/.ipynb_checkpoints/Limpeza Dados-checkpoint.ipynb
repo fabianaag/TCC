{
 "cells": [
  {
   "cell_type": "markdown",
   "metadata": {},
   "source": [
    "## LIMPEZA DE DADOS (DATA CLEANING)\n",
    "#### OBJETIVOS \n",
    "\n",
    "- [ ] Funções utilitárias \n",
    "- [ ] Procurar e remover erros com nomes de bairros \n",
    "- [ ] Procurar e remover erros com nomes de escolas"
   ]
  },
  {
   "cell_type": "code",
   "execution_count": 18,
   "metadata": {},
   "outputs": [],
   "source": [
    "# Funções utilitárias \n",
    "\n",
    "def extrair_colunas(rows, cols, col_to_idx):\n",
    "    return [\n",
    "        [rows[idx][col_to_idx[col]] for col in cols]\n",
    "        for idx in range(len(rows))\n",
    "    ]"
   ]
  },
  {
   "cell_type": "code",
   "execution_count": 41,
   "metadata": {},
   "outputs": [],
   "source": [
    "# Bairros de 2018 \n",
    "import csv\n",
    "import itertools, collections\n",
    "\n",
    "header = None\n",
    "cols_2018 = ['sexo', 'estado_civil', 'nascimento', 'lingua', 'curso', 'cidade', 'bairro', 'escola']\n",
    "idx_map = {k: v for v, k in enumerate(cols_2018)}\n",
    "rows = list()\n",
    "with open('./2018/cadastro_2018.tsv') as data_file: \n",
    "    rows = csv.reader(data_file, delimiter='\\t')\n",
    "    rows = [row for idx, row in enumerate(rows) if idx > 0]\n",
    "    \n",
    "# pegando dados CG apenas \n",
    "dados_2018_cg = [ row for row in rows if row[idx_map['cidade']].lower() == 'campina grande']\n",
    "[ print()]\n",
    "with open('./2018/bairros_2018.tsv', 'w') as out_file:\n",
    "    out_file.write('\\t'.join(['bairro', 'cidade', 'estado', 'pais']) + '\\n')\n",
    "    for row in dados_2018_cg:\n",
    "        bairro = row[idx_map['bairro']]\n",
    "        out_file.write('\\t'.join([bairro, 'Campina Grande', 'Paraiba', 'Brasil']) + '\\n')\n",
    "\n",
    "escolas_2018 = extrair_colunas(rows, ['escola'], idx_map)\n",
    "escolas_2018 = {row[0] for row in escolas_2018}\n",
    "\n",
    "pares_escolas_2018 = set(itertools.combinations(escolas_2018, 2))\n"
   ]
  },
  {
   "cell_type": "code",
   "execution_count": 45,
   "metadata": {},
   "outputs": [
    {
     "name": "stdout",
     "output_type": "stream",
     "text": [
      "['Sexo', 'Estado Civil', 'neighborhood', 'Cidade', 'Língua estrangeira', 'Escola']\n",
      "\n",
      "\n",
      "\n",
      "[['Masculino', 'Solteiro(a)', 'Bela Vista', 'Campina Grande', 'Inglês ', 'EEEFM Severino Cabral'], ['Masculino', 'Solteiro(a)', 'Ramadinha', 'Campina Grande', 'Espanhol', 'EEEFM Professor Itan Pereira'], ['Feminino', 'Solteiro(a)', 'Quarenta', 'Campina Grande', 'Inglês ', 'Colégio Santa Teresinha'], ['Masculino', 'Solteiro(a)', 'Cruzeiro', 'Campina Grande', 'Espanhol', 'IFPB'], ['Feminino', 'Solteiro(a)', 'Malvinas', 'Campina Grande', 'Inglês ', 'EEEFM Professor Anésio Leão'], ['Masculino', 'Solteiro(a)', 'Universitário', 'Campina Grande', 'Espanhol', 'EEEFM Ademar Veloso da Silveira'], ['Feminino', 'Solteiro(a)', 'Malvinas', 'Campina Grande', 'Espanhol', 'EEEFM Severino Cabral'], ['Feminino', 'Solteiro(a)', 'Centenário', 'Campina grande', 'Espanhol', 'EEEFM Lúcia wanderlay de freitas'], ['Feminino', 'Solteiro(a)', 'Três Irmãs', 'Campina Grande', 'Inglês ', 'EEEFM Major Veneziano Vital do Rêgo'], ['Feminino', 'Solteiro(a)', 'Novo Bodocongo', 'Campina Grande', 'Inglês ', 'Estadual da Prata'], ['Feminino', 'Solteiro(a)', 'Pedregal', 'Campina Grande', 'Inglês ', 'Estadual da Prata'], ['Feminino', 'Solteiro(a)', 'Pedregal', 'Campina Grande', 'Inglês ', 'EEEFM Monte Carmelo'], ['Masculino', 'Solteiro(a)', 'Bodocongó', 'Campina Grande', 'Inglês ', 'EEEFM Monte Carmelo'], ['Feminino', 'Solteiro(a)', 'São José', 'Campina Grande', 'Inglês ', 'EEEFM Clementino Procópio'], ['Feminino', 'Solteiro(a)', 'Três Irmãs', 'Campina Grande', 'Espanhol', 'EEEFM Antônio Galdino Filho'], ['Feminino', 'Solteiro(a)', 'Catolé', 'Campina Grande', 'Inglês ', 'EEEFM Raul Córdula'], ['Masculino', 'Solteiro(a)', 'Malvinas', 'Campina Grande', 'Espanhol', 'EEEFM CAIC José Joffily'], ['Feminino', 'Solteiro(a)', 'Bodocongó', 'Campina Grande', 'Inglês ', 'EEEFM Severino Cabral'], ['Masculino', 'Solteiro(a)', 'Jeremias', 'Campina Grande', 'Espanhol', 'EEEFM Professor Anésio Leão'], ['Feminino', 'Solteiro(a)', 'Ramadinha', 'Campina Grande', 'Espanhol', 'EEEFM Assis Chateaubriand'], ['Feminino', 'Solteiro(a)', 'São José da Mata', 'Campina Grande', 'Inglês ', 'EEEFM Conselheiro José Braz do Rêgo'], ['Masculino', 'Solteiro(a)', 'Bodocongó', 'Campina Grande', 'Inglês ', 'IFPB'], ['Feminino', 'Solteiro(a)', 'Malvinas', 'Campina Grande', 'Inglês ', 'EEEFM Escritor Virginius da Gama e Melo'], ['Masculino', 'Solteiro(a)', 'Galante', 'Campina Grande', 'Espanhol', 'EEEFM Isabel Rofrigues de Melo'], ['Feminino', 'Solteiro(a)', 'Centro - Eperança', 'Campina Grande', 'Espanhol', 'ECIEEFM Monsenhor José da Silva Coutinho'], ['Feminino', 'Solteiro(a)', 'Centenário', 'Campina Grande', 'Espanhol', 'IFPB'], ['Feminino', 'Solteiro(a)', 'Dinamérica', 'Campina Grande', 'Espanhol', 'EEEFM Antônio Galdino Filho'], ['Masculino', 'Solteiro(a)', 'Santa Cruz', 'Campina Grande', 'Inglês ', 'IFPB'], ['Feminino', 'Solteiro(a)', 'Pedregal', 'Campina Grande', 'Espanhol', 'IFPB'], ['Masculino', 'Solteiro(a)', 'Presidente Médici', 'Campina Grande', 'Espanhol', 'EEEFM Raul Córdula'], ['Masculino', 'Solteiro(a)', 'Bodocongó', 'Campina Grande', 'Inglês ', 'EEEFM Ademar Veloso da Silveira'], ['Feminino', 'Solteiro(a)', 'Palmeira', 'Campina Grande', 'Inglês ', 'Escola Normal'], ['Feminino', 'Solteiro(a)', 'Araxá', 'Campina Grande', 'Espanhol', 'Escola Normal'], ['Feminino', 'Solteiro(a)', 'Malvinas', 'Campina Grande', 'Inglês ', 'EEEFM Nenzinha Cunha Lima'], ['Feminino', 'Solteiro(a)', 'Bodocongó', 'Campina Grande', 'Espanhol', 'IFPB'], ['Feminino', 'Solteiro(a)', 'Bodocongó', 'Campina Grande', 'Inglês ', 'Escola Santo Onofre'], ['Feminino', 'Solteiro(a)', 'Bodocongó', 'Campina Grande', 'Espanhol', 'EEEFM Ademar Veloso da Silveira'], ['Feminino', 'Solteiro(a)', 'Bodocongó', 'Campina Grande', 'Espanhol', 'Escola Santo Onofre'], ['Masculino', 'Solteiro(a)', 'Malvinas', 'Campina Grande', 'Espanhol', 'EEEFM Ademar Veloso da Silveira'], ['Feminino', 'Solteiro(a)', 'Três Irmãs', 'Campina Grande', 'Espanhol', 'EEEFM Senador Argemiro de Figueiredo'], ['Masculino', 'Solteiro(a)', 'Conceição', 'Campina Grande', 'Inglês ', 'EEEFM Solon de Lucena'], ['Feminino', 'Solteiro(a)', 'Prata', 'Campina Grande', 'Inglês ', 'IFPB'], ['Feminino', 'Solteiro(a)', 'Malvinas', 'Campina Grande', 'Inglês ', 'EEEFM Severino Cabral'], ['Feminino', 'Solteiro(a)', 'Catolé', 'Campina Grande', 'Inglês ', 'EEEFM Senador Argemiro de Figueiredo'], ['Feminino', 'Solteiro(a)', 'Ramadinha ', 'Campina Grande', 'Inglês ', 'EEEFM Escritor Virginius da Gama e Melo'], ['Feminino', 'Solteiro(a)', 'São José da Mata', 'Campina Grande', 'Espanhol', 'Espaço Educacional Carmela Veloso'], ['Feminino', 'Solteiro(a)', 'Jardim Paulistano', 'Campina Grande', 'Espanhol', 'ECIEEM Dr Hortensio de Sousa Ribeiro'], ['Feminino', 'Solteiro(a)', 'Bodocongó', 'Campina Grande', 'Inglês ', 'Estadual da Prata'], ['Feminino', 'Solteiro(a)', 'Monte Santo', 'Campina Grande', 'Inglês ', 'Escola Normal'], ['Feminino', 'Solteiro(a)', 'Acácio Figueiredo', 'Campina Grande', 'Espanhol', 'EEEFM Almirante Antônio Heráclito do Rêgo'], ['Masculino', 'Solteiro(a)', 'Bodocongó', 'Campina Grande', 'Inglês ', 'EEEFM Severino Cabral'], ['Masculino', 'Solteiro(a)', 'Cruzeiro', 'Campina Grande', 'Inglês ', 'EEEFM Ademar Veloso da Silveira'], ['Masculino', 'Solteiro(a)', 'Cruzeiro', 'Campina Grande', 'Inglês ', 'EEEFM Raul Córdula'], ['Masculino', 'Solteiro(a)', 'João Paulo II', 'Campina Grande', 'Inglês ', 'EEEF John Kennedy'], ['Masculino', 'Solteiro(a)', 'José Pinheiro', 'Campina Grande', 'Espanhol', 'EEEFM Nenzinha Cunha Lima'], ['Masculino', 'Solteiro(a)', 'Malvinas', 'Campina Grande', 'Espanhol', 'Estadual da Prata'], ['Masculino', 'Solteiro(a)', 'Bodocongó', 'Campina Grande', 'Espanhol', 'Colégio Alfredo Dantas'], ['Feminino', 'Solteiro(a)', 'José Pinheiro', 'Campina Grande', 'Espanhol', 'Escola Normal'], ['Feminino', 'Solteiro(a)', 'Francisco Cabral - JS', 'Campina Grande', 'Espanhol', 'EEEFM Ezequiel Fernandes'], ['Feminino', 'Solteiro(a)', 'Malvinas', 'Campina Grande', 'Espanhol', 'EEEFM CAIC José Joffily'], ['Masculino', 'Solteiro(a)', 'Dinamérica', 'Campina Grande', 'Espanhol', 'ECIEEM Dr Hortensio de Sousa Ribeiro'], ['Feminino', 'Solteiro(a)', 'Cruzeiro', 'Campina Grande', 'Inglês ', 'EEEFM Raul Córdula'], ['Masculino', 'Solteiro(a)', 'São José da Mata', 'Campina Grande', 'Inglês ', 'EEEFM José Miguel Leão'], ['Feminino', 'Solteiro(a)', 'Catolé', 'Campina Grande', 'Inglês ', 'Estadual da Prata'], ['Feminino', 'Solteiro(a)', 'Bela Vista', 'Campina Grande', 'Inglês ', 'EEEFM Severino Cabral'], ['Feminino', 'Solteiro(a)', 'Bela Vista', 'Campina Grande', 'Inglês ', 'EEEFM Monte Carmelo'], ['Feminino', 'Solteiro(a)', 'São José da Mata', 'Campina Grande', 'Inglês ', 'Espaço Educacional Carmela Veloso'], ['Feminino', 'Solteiro(a)', 'Liberdade', 'Campina Grande', 'Inglês ', 'Estadual da Prata'], ['Masculino', 'Solteiro(a)', 'Catolé', 'Campina Grande', 'Inglês ', 'ECIEEM Dr Hortensio de Sousa Ribeiro'], ['Masculino', 'Solteiro(a)', 'Severino Cabral', 'Campina Grande', 'Inglês ', 'Estadual da Prata'], ['Feminino', 'Solteiro(a)', 'Santa Cruz', 'Campina Grande', 'Inglês ', 'IFPB'], ['Masculino', 'Solteiro(a)', 'Malvinas', 'Campina Grande', 'Inglês ', 'IFPB'], ['Feminino', 'Solteiro(a)', 'Lagoa de Dentro', 'Campina Grande', 'Inglês ', 'Estadual da Prata']]\n",
      "\n",
      "\n",
      "\n",
      "\n",
      "Bela Vista\n",
      "Ramadinha\n",
      "Quarenta\n",
      "Cruzeiro\n",
      "Malvinas\n",
      "Universitário\n",
      "Malvinas\n",
      "Centenário\n",
      "Três Irmãs\n",
      "Novo Bodocongo\n",
      "Pedregal\n",
      "Pedregal\n",
      "Bodocongó\n",
      "São José\n",
      "Três Irmãs\n",
      "Catolé\n",
      "Malvinas\n",
      "Bodocongó\n",
      "Jeremias\n",
      "Ramadinha\n",
      "São José da Mata\n",
      "Bodocongó\n",
      "Malvinas\n",
      "Galante\n",
      "Centro - Eperança\n",
      "Centenário\n",
      "Dinamérica\n",
      "Santa Cruz\n",
      "Pedregal\n",
      "Presidente Médici\n",
      "Bodocongó\n",
      "Palmeira\n",
      "Araxá\n",
      "Malvinas\n",
      "Bodocongó\n",
      "Bodocongó\n",
      "Bodocongó\n",
      "Bodocongó\n",
      "Malvinas\n",
      "Três Irmãs\n",
      "Conceição\n",
      "Prata\n",
      "Malvinas\n",
      "Catolé\n",
      "Ramadinha \n",
      "São José da Mata\n",
      "Jardim Paulistano\n",
      "Bodocongó\n",
      "Monte Santo\n",
      "Acácio Figueiredo\n",
      "Bodocongó\n",
      "Cruzeiro\n",
      "Cruzeiro\n",
      "João Paulo II\n",
      "José Pinheiro\n",
      "Malvinas\n",
      "Bodocongó\n",
      "José Pinheiro\n",
      "Francisco Cabral - JS\n",
      "Malvinas\n",
      "Dinamérica\n",
      "Cruzeiro\n",
      "São José da Mata\n",
      "Catolé\n",
      "Bela Vista\n",
      "Bela Vista\n",
      "São José da Mata\n",
      "Liberdade\n",
      "Catolé\n",
      "Severino Cabral\n",
      "Santa Cruz\n",
      "Malvinas\n",
      "Lagoa de Dentro\n",
      "Counter({'IFPB': 10, 'Estadual da Prata': 8, 'EEEFM Severino Cabral': 6, 'EEEFM Ademar Veloso da Silveira': 5, 'EEEFM Ezequiel Fernandes': 4, 'EEEFM Antônio Galdino Filho': 4, 'EEEFM Raul Córdula': 4, 'ECIEEFM Monsenhor José da Silva Coutinho': 4, 'Escola Normal': 4, 'EEEFM Monte Carmelo': 3, 'EEEFM Monsenhor José Borges de Carvalho': 3, 'ECIEEM Dr Hortensio de Sousa Ribeiro': 3, 'EEEFM Francisco Apolinário da Silva': 2, 'EEEFM Professor Anésio Leão': 2, 'EEEFM CAIC José Joffily': 2, 'EEEFM Escritor Virginius da Gama e Melo': 2, 'EEEFM Nenzinha Cunha Lima': 2, 'EEEFM Irineu Joffily': 2, 'Escola Santo Onofre': 2, 'EEEM João da Silva Monteiro': 2, 'EEEFM Senador Argemiro de Figueiredo': 2, 'Espaço Educacional Carmela Veloso': 2, 'EEEFM Professor Itan Pereira': 1, 'Colégio Santa Teresinha': 1, 'EEEFM Félix Araújo': 1, 'EEEFM Teodósio de Oliveira Lêdo': 1, 'EEEFM Luiz Gonzaga Buriti': 1, 'EEEFM Lúcia wanderlay de freitas': 1, 'EMEF luis Ribeiro Coutinho': 1, 'EEEF Francisca Martiniano da Rocha': 1, 'EEEFM Major Veneziano Vital do Rêgo': 1, 'EEEFM Clementino Procópio': 1, 'EEEFM Assis Chateaubriand': 1, 'EEEFM Conselheiro José Braz do Rêgo': 1, 'EEEFM Isabel Rofrigues de Melo': 1, 'EEEFM Solon de Lucena': 1, 'EEEFM Professora Maria Cécilia de Castro': 1, 'EEEM Otávia Silveira': 1, 'EEEFM Almirante Antônio Heráclito do Rêgo': 1, 'ECIEEFM Marechal Almeida Barreto': 1, 'ENCCEJA': 1, 'EEEF John Kennedy': 1, 'Colégio Alfredo Dantas': 1, 'Escola de Referência em Ensino Médio Justa Barbosa de Sales': 1, 'EEEFM José Miguel Leão': 1})\n"
     ]
    }
   ],
   "source": [
    "cols_2019 = ['sexo', 'estado_civil', 'bairro', 'cidade', 'lingua', 'escola']\n",
    "idx_map_2019 = {k: v for v, k in enumerate(cols_2019)}\n",
    "rows = list()\n",
    "with open('./2019/cadastro_2019.tsv') as data_file:\n",
    "    rows = csv.reader(data_file, delimiter='\\t') \n",
    "    rows = [row for row in rows]\n",
    "    print(rows.pop(0))\n",
    "    \n",
    "dados_2019_cg = [row for row in rows if row[idx_map_2019['cidade']].lower() == 'campina grande']\n",
    "print('\\n\\n')\n",
    "print([repr(row[idx_map_2019['bairro']]) for row in dados_2019_cg])\n",
    "print('\\n\\n\\n')\n",
    "with open('./2019/bairros_2019.tsv', 'w') as out_file:\n",
    "    out_file.write('\\t'.join(['bairro', 'cidade', 'estado', 'pais']) + '\\n')\n",
    "    for row in dados_2019_cg:\n",
    "        bairro = row[idx_map_2019['bairro']]\n",
    "        print(bairro)\n",
    "        out_file.write('\\t'.join([bairro, 'Campina Grande', 'Paraiba', 'Brasil']) + '\\n')\n",
    "    \n",
    "escolas_2019 = extrair_colunas(rows, ['escola'], idx_map_2019)\n",
    "print(collections.Counter([row[0] for row in escolas_2019]))"
   ]
  },
  {
   "cell_type": "code",
   "execution_count": 28,
   "metadata": {},
   "outputs": [
    {
     "data": {
      "text/plain": [
       "dict_keys(['Estadual da Palmeira', 'Estadual da Prata', 'Estadual de Bodocongó', 'Virgínio da Gama e Melo', 'EEEFM Nenzinha Cunha Lima', 'EEEM Otávia Silveira', 'EEEFM Severino Cabral', 'EEEFM Monte Carmelo', 'EEEFM Raul Córdula', 'EEEFM José Miguel Leão', 'EEEFM Félix Araújo', 'José Braz do Rêgo', 'Escola Normal', 'Estadual Francisco Ernesto do Rêgo', 'Estadual Francisco Apolinário', 'Estadual Monsenhor José Borges', 'Estadual Ismenia Machado', 'Educacional Santa Cecília', 'Estadual de Ensino Fundamental e Médio de Alcantil', 'Estadual Dr. Trajano Nóbrega', 'Estadual - E.C.I. Monsenhor José da Silva Coutinho', 'EEEM Prefeito Severino Pereira Gomes', 'Estadual Anésio Leão', 'Escola Estadual João de Abreu', 'Estadual Premen', 'EEEFM Solon de Lucena'])"
      ]
     },
     "execution_count": 28,
     "metadata": {},
     "output_type": "execute_result"
    }
   ],
   "source": [
    "counter_escolas.keys()"
   ]
  },
  {
   "cell_type": "code",
   "execution_count": null,
   "metadata": {},
   "outputs": [],
   "source": []
  }
 ],
 "metadata": {
  "kernelspec": {
   "display_name": "Python 3",
   "language": "python",
   "name": "python3"
  },
  "language_info": {
   "codemirror_mode": {
    "name": "ipython",
    "version": 3
   },
   "file_extension": ".py",
   "mimetype": "text/x-python",
   "name": "python",
   "nbconvert_exporter": "python",
   "pygments_lexer": "ipython3",
   "version": "3.6.9"
  }
 },
 "nbformat": 4,
 "nbformat_minor": 4
}
